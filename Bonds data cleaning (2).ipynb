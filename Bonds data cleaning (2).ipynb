{
 "cells": [
  {
   "cell_type": "code",
   "execution_count": 1,
   "metadata": {},
   "outputs": [],
   "source": [
    "import pandas as pd\n",
    "import numpy as np\n",
    "\n",
    "\n",
    "from sklearn.pipeline import Pipeline\n",
    "from sklearn.impute import SimpleImputer\n",
    "from sklearn.preprocessing import StandardScaler\n",
    "from sklearn.model_selection import TimeSeriesSplit\n",
    "from sklearn.metrics import r2_score, mean_absolute_error, root_mean_squared_error\n",
    "\n",
    "from sklearn.linear_model import LassoCV\n",
    "from sklearn.ensemble import RandomForestRegressor, GradientBoostingRegressor"
   ]
  },
  {
   "cell_type": "code",
   "execution_count": 2,
   "metadata": {},
   "outputs": [],
   "source": [
    "data_ts_1 = pd.read_csv(\"/Users/marcohattingh/Desktop/Research Assignment/Data/Bonds main data.csv\")\n"
   ]
  },
  {
   "cell_type": "code",
   "execution_count": 3,
   "metadata": {},
   "outputs": [],
   "source": [
    "data_ts_2 = pd.read_csv(\"/Users/marcohattingh/Desktop/Research Assignment/Data/Bonds main data 2.csv\")"
   ]
  },
  {
   "cell_type": "code",
   "execution_count": 5,
   "metadata": {},
   "outputs": [],
   "source": [
    "data_ts_1.rename(columns={data_ts_1.columns[0]:\"Bloomberg Ticker\"}, inplace=True)\n",
    "data_ts_1.rename(columns={data_ts_1.columns[1]:\"Variable\"}, inplace= True)"
   ]
  },
  {
   "cell_type": "markdown",
   "metadata": {},
   "source": []
  },
  {
   "cell_type": "code",
   "execution_count": 6,
   "metadata": {},
   "outputs": [],
   "source": [
    "data_ts_2.rename(columns={data_ts_2.columns[1]:\"Variable\"}, inplace = True)\n",
    "data_ts_2.rename(columns={data_ts_2.columns[0]:\"Bloomberg Ticker\"}, inplace=True)"
   ]
  },
  {
   "cell_type": "code",
   "execution_count": 7,
   "metadata": {},
   "outputs": [],
   "source": [
    "data_ts_1 = data_ts_1.iloc[:,:-1]"
   ]
  },
  {
   "cell_type": "code",
   "execution_count": 8,
   "metadata": {},
   "outputs": [],
   "source": [
    "data_ts_1['Bloomberg Ticker'] = data_ts_1['Bloomberg Ticker'].ffill()\n",
    "data_ts_2['Bloomberg Ticker'] = data_ts_2['Bloomberg Ticker'].ffill()"
   ]
  },
  {
   "cell_type": "code",
   "execution_count": 9,
   "metadata": {},
   "outputs": [],
   "source": [
    "data_ts_1_long = pd.melt(data_ts_1, id_vars=[\"Bloomberg Ticker\",\"Variable\"], value_vars=data_ts_1.columns[2:], var_name=\"Date\", value_name='Value')"
   ]
  },
  {
   "cell_type": "code",
   "execution_count": 10,
   "metadata": {},
   "outputs": [],
   "source": [
    "data_ts_2_long = pd.melt(data_ts_2, id_vars=[\"Bloomberg Ticker\", \"Variable\"], value_vars=data_ts_2.columns[2:], var_name=\"Date\", value_name=\"Value\")"
   ]
  },
  {
   "cell_type": "code",
   "execution_count": 11,
   "metadata": {},
   "outputs": [],
   "source": [
    "merged_data = pd.merge(data_ts_1_long, data_ts_2_long, on=['Bloomberg Ticker', 'Variable', 'Date'], how='left', suffixes=('_main','_subset'))"
   ]
  },
  {
   "cell_type": "code",
   "execution_count": 13,
   "metadata": {},
   "outputs": [
    {
     "name": "stderr",
     "output_type": "stream",
     "text": [
      "/var/folders/9d/d6f8nwyx00gf8_tltm7pqtyc0000gn/T/ipykernel_6874/2448527503.py:1: FutureWarning: A value is trying to be set on a copy of a DataFrame or Series through chained assignment using an inplace method.\n",
      "The behavior will change in pandas 3.0. This inplace method will never work because the intermediate object on which we are setting values always behaves as a copy.\n",
      "\n",
      "For example, when doing 'df[col].method(value, inplace=True)', try using 'df.method({col: value}, inplace=True)' or df[col] = df[col].method(value) instead, to perform the operation inplace on the original object.\n",
      "\n",
      "\n",
      "  merged_data['Value_main'].replace('#N/A Review',np.nan, inplace=True)\n",
      "/var/folders/9d/d6f8nwyx00gf8_tltm7pqtyc0000gn/T/ipykernel_6874/2448527503.py:2: FutureWarning: A value is trying to be set on a copy of a DataFrame or Series through chained assignment using an inplace method.\n",
      "The behavior will change in pandas 3.0. This inplace method will never work because the intermediate object on which we are setting values always behaves as a copy.\n",
      "\n",
      "For example, when doing 'df[col].method(value, inplace=True)', try using 'df.method({col: value}, inplace=True)' or df[col] = df[col].method(value) instead, to perform the operation inplace on the original object.\n",
      "\n",
      "\n",
      "  merged_data['Value_main'].replace('#NAME?',np.nan, inplace=True)\n",
      "/var/folders/9d/d6f8nwyx00gf8_tltm7pqtyc0000gn/T/ipykernel_6874/2448527503.py:3: FutureWarning: A value is trying to be set on a copy of a DataFrame or Series through chained assignment using an inplace method.\n",
      "The behavior will change in pandas 3.0. This inplace method will never work because the intermediate object on which we are setting values always behaves as a copy.\n",
      "\n",
      "For example, when doing 'df[col].method(value, inplace=True)', try using 'df.method({col: value}, inplace=True)' or df[col] = df[col].method(value) instead, to perform the operation inplace on the original object.\n",
      "\n",
      "\n",
      "  merged_data['Value_subset'].replace(' ',np.nan, inplace=True)\n"
     ]
    }
   ],
   "source": [
    "merged_data['Value_main'].replace('#N/A Review',np.nan, inplace=True)\n",
    "merged_data['Value_main'].replace('#NAME?',np.nan, inplace=True)\n",
    "merged_data['Value_subset'].replace(' ',np.nan, inplace=True)\n",
    "\n",
    "merged_data['Value_main'] = merged_data['Value_main'].astype(float)\n",
    "merged_data['Value_subset'] = merged_data['Value_subset'].astype(float)\n",
    "\n",
    "\n",
    "#print(merged_data.dtypes)"
   ]
  },
  {
   "cell_type": "code",
   "execution_count": 14,
   "metadata": {},
   "outputs": [],
   "source": [
    "merged_data['Combined'] = merged_data['Value_main'].combine_first(merged_data['Value_subset'])"
   ]
  },
  {
   "cell_type": "code",
   "execution_count": 15,
   "metadata": {},
   "outputs": [],
   "source": [
    "merged_data['Date'] = pd.to_datetime(merged_data['Date'], format = '%m/%d/%y', errors='coerce')"
   ]
  },
  {
   "cell_type": "code",
   "execution_count": 16,
   "metadata": {},
   "outputs": [],
   "source": [
    "merged_data['Date_M_Y'] = merged_data['Date'].dt.to_period('M')"
   ]
  },
  {
   "cell_type": "code",
   "execution_count": 17,
   "metadata": {},
   "outputs": [],
   "source": [
    "merged_data.sort_values(by=['Bloomberg Ticker','Variable', 'Date'], inplace=True)"
   ]
  },
  {
   "cell_type": "code",
   "execution_count": 18,
   "metadata": {},
   "outputs": [],
   "source": [
    "merged_data.drop_duplicates(subset=['Bloomberg Ticker', 'Variable', 'Combined'], inplace=True)"
   ]
  },
  {
   "cell_type": "code",
   "execution_count": 19,
   "metadata": {},
   "outputs": [
    {
     "name": "stdout",
     "output_type": "stream",
     "text": [
      "Index([11996, 11994, 11993, 11995, 11992, 11991], dtype='int64')\n"
     ]
    }
   ],
   "source": [
    "indices_to_drop = merged_data[merged_data['Bloomberg Ticker'] == '2284'].index\n",
    "print(indices_to_drop)\n",
    "\n",
    "merged_data.drop(index=indices_to_drop, inplace = True)"
   ]
  },
  {
   "cell_type": "code",
   "execution_count": 20,
   "metadata": {},
   "outputs": [],
   "source": [
    "pivot = merged_data.pivot_table(index=['Bloomberg Ticker', 'Date'], columns='Variable', values=\"Combined\", aggfunc='first').reset_index()"
   ]
  },
  {
   "cell_type": "code",
   "execution_count": 21,
   "metadata": {},
   "outputs": [],
   "source": [
    "pivot['Date'] = pivot['Date'].dt.to_period('M')"
   ]
  },
  {
   "cell_type": "code",
   "execution_count": 22,
   "metadata": {},
   "outputs": [],
   "source": [
    "#Adding a column which will classify the security\n",
    "pivot['Classification'] = 'Corporate Green Bond'"
   ]
  },
  {
   "cell_type": "code",
   "execution_count": 23,
   "metadata": {},
   "outputs": [],
   "source": [
    "pivot.index = pivot['Date']"
   ]
  },
  {
   "cell_type": "markdown",
   "metadata": {},
   "source": [
    "Import second time series dataset. Macroeconomic and stock market variables."
   ]
  },
  {
   "cell_type": "code",
   "execution_count": 24,
   "metadata": {},
   "outputs": [],
   "source": [
    "data_ts_3 = pd.read_csv(\"/Users/marcohattingh/Desktop/Research Assignment/Data/Time series second phase cleaned & merged.csv\")"
   ]
  },
  {
   "cell_type": "code",
   "execution_count": 25,
   "metadata": {},
   "outputs": [
    {
     "data": {
      "application/vnd.microsoft.datawrangler.viewer.v0+json": {
       "columns": [
        {
         "name": "index",
         "rawType": "int64",
         "type": "integer"
        },
        {
         "name": "Description",
         "rawType": "object",
         "type": "string"
        },
        {
         "name": "10/29/21",
         "rawType": "float64",
         "type": "float"
        },
        {
         "name": "11/30/21",
         "rawType": "float64",
         "type": "float"
        },
        {
         "name": "12/31/21",
         "rawType": "float64",
         "type": "float"
        },
        {
         "name": "1/31/22",
         "rawType": "float64",
         "type": "float"
        },
        {
         "name": "2/28/22",
         "rawType": "float64",
         "type": "float"
        },
        {
         "name": "3/31/22",
         "rawType": "float64",
         "type": "float"
        },
        {
         "name": "4/29/22",
         "rawType": "float64",
         "type": "float"
        },
        {
         "name": "5/31/22",
         "rawType": "float64",
         "type": "float"
        },
        {
         "name": "6/30/22",
         "rawType": "float64",
         "type": "float"
        },
        {
         "name": "7/29/22",
         "rawType": "float64",
         "type": "float"
        },
        {
         "name": "8/31/22",
         "rawType": "float64",
         "type": "float"
        },
        {
         "name": "9/30/22",
         "rawType": "float64",
         "type": "float"
        },
        {
         "name": "10/31/22",
         "rawType": "float64",
         "type": "float"
        },
        {
         "name": "11/30/22",
         "rawType": "float64",
         "type": "float"
        },
        {
         "name": "12/30/22",
         "rawType": "float64",
         "type": "float"
        },
        {
         "name": "1/31/23",
         "rawType": "float64",
         "type": "float"
        },
        {
         "name": "2/28/23",
         "rawType": "float64",
         "type": "float"
        },
        {
         "name": "3/31/23",
         "rawType": "float64",
         "type": "float"
        },
        {
         "name": "4/28/23",
         "rawType": "float64",
         "type": "float"
        },
        {
         "name": "5/31/23",
         "rawType": "float64",
         "type": "float"
        },
        {
         "name": "6/30/23",
         "rawType": "float64",
         "type": "float"
        },
        {
         "name": "7/31/23",
         "rawType": "float64",
         "type": "float"
        },
        {
         "name": "8/31/23",
         "rawType": "float64",
         "type": "float"
        },
        {
         "name": "9/29/23",
         "rawType": "float64",
         "type": "float"
        },
        {
         "name": "10/31/23",
         "rawType": "float64",
         "type": "float"
        },
        {
         "name": "11/30/23",
         "rawType": "float64",
         "type": "float"
        },
        {
         "name": "12/29/23",
         "rawType": "float64",
         "type": "float"
        },
        {
         "name": "1/31/24",
         "rawType": "float64",
         "type": "float"
        },
        {
         "name": "2/29/24",
         "rawType": "float64",
         "type": "float"
        },
        {
         "name": "3/29/24",
         "rawType": "float64",
         "type": "float"
        },
        {
         "name": "4/30/24",
         "rawType": "float64",
         "type": "float"
        },
        {
         "name": "5/31/24",
         "rawType": "float64",
         "type": "float"
        },
        {
         "name": "6/28/24",
         "rawType": "float64",
         "type": "float"
        },
        {
         "name": "7/31/24",
         "rawType": "float64",
         "type": "float"
        },
        {
         "name": "8/30/24",
         "rawType": "float64",
         "type": "float"
        },
        {
         "name": "9/30/24",
         "rawType": "float64",
         "type": "float"
        },
        {
         "name": "10/31/24",
         "rawType": "float64",
         "type": "float"
        }
       ],
       "ref": "135a9c6c-a472-402c-88c0-17effc188a5d",
       "rows": [
        [
         "0",
         "S&P500 VOLATILITY INDEX",
         "16.26",
         "27.19",
         "17.22",
         "24.83",
         "30.15",
         "20.56",
         "33.4",
         "26.19",
         "28.71",
         "21.33",
         "25.87",
         "31.62",
         "25.88",
         "20.58",
         "21.67",
         "19.4",
         "20.7",
         "18.7",
         "15.78",
         "17.94",
         "13.59",
         "13.63",
         "13.57",
         "17.52",
         "18.14",
         "12.92",
         "12.45",
         "14.35",
         "13.4",
         "13.01",
         "15.65",
         "12.92",
         "12.44",
         "16.36",
         "15.0",
         "16.73",
         "23.16"
        ],
        [
         "1",
         "S&P500 PX_LAST",
         "4605.38",
         "4567.0",
         "4766.18",
         "4515.55",
         "4373.94",
         "4530.41",
         "4131.93",
         "4132.15",
         "3785.38",
         "4130.29",
         "3955.0",
         "3585.62",
         "3871.98",
         "4080.11",
         "3839.5",
         "4076.6",
         "3970.15",
         "4109.31",
         "4169.48",
         "4179.83",
         "4450.38",
         "4588.96",
         "4507.66",
         "4288.05",
         "4193.8",
         "4567.8",
         "4769.83",
         "4845.65",
         "5096.27",
         "5254.35",
         "5035.69",
         "5277.51",
         "5460.48",
         "5522.3",
         "5648.4",
         "5762.48",
         "5705.45"
        ],
        [
         "2",
         "S&P500 PX_BID",
         "4561.03",
         "4528.64",
         "4701.56",
         "4459.92",
         "4299.02",
         "4499.97",
         "4108.68",
         "4094.66",
         "3733.31",
         "4086.15",
         "3934.32",
         "3560.47",
         "3826.12",
         "4037.1",
         "3819.93",
         "4021.13",
         "3919.61",
         "4081.15",
         "4153.76",
         "4156.03",
         "4420.98",
         "4569.67",
         "4491.66",
         "4277.55",
         "4155.58",
         "4495.23",
         "4736.18",
         "4814.01",
         "5042.8",
         "5200.84",
         "4970.0",
         "5224.07",
         "5426.23",
         "5484.77",
         "5571.95",
         "5700.44",
         "5669.85"
        ],
        [
         "3",
         "S&P500 PX_ASK",
         "4677.16",
         "4647.79",
         "4834.94",
         "4568.93",
         "4419.26",
         "4587.05",
         "5434.72",
         "4178.75",
         "3819.46",
         "4162.67",
         "3993.5",
         "3614.17",
         "3924.22",
         "4124.46",
         "3868.39",
         "4114.05",
         "4012.27",
         "4153.8",
         "4177.85",
         "4199.75",
         "4468.46",
         "4609.12",
         "4526.03",
         "4308.94",
         "4207.81",
         "4611.43",
         "4798.46",
         "4895.08",
         "5160.48",
         "5309.45",
         "5075.58",
         "5328.88",
         "5513.21",
         "5595.24",
         "5713.68",
         "5803.09",
         "5764.36"
        ],
        [
         "4",
         "EURO STOXX 50",
         "4250.56",
         "4063.06",
         "4298.41",
         "4174.6",
         "3924.23",
         "3902.52",
         "3802.86",
         "3789.21",
         "3454.86",
         "3708.1",
         "3517.25",
         "3318.2",
         "3617.54",
         "3964.72",
         "3793.62",
         "4163.45",
         "4238.38",
         "4315.05",
         "4359.31",
         "4218.04",
         "4399.09",
         "4471.31",
         "4297.11",
         "4174.66",
         "4061.12",
         "4382.47",
         "4521.44",
         "4648.4",
         "4877.77",
         "5083.42",
         "4921.22",
         "4983.67",
         "4894.02",
         "4872.94",
         "4957.98",
         "5000.45",
         "4827.63"
        ]
       ],
       "shape": {
        "columns": 38,
        "rows": 5
       }
      },
      "text/html": [
       "<div>\n",
       "<style scoped>\n",
       "    .dataframe tbody tr th:only-of-type {\n",
       "        vertical-align: middle;\n",
       "    }\n",
       "\n",
       "    .dataframe tbody tr th {\n",
       "        vertical-align: top;\n",
       "    }\n",
       "\n",
       "    .dataframe thead th {\n",
       "        text-align: right;\n",
       "    }\n",
       "</style>\n",
       "<table border=\"1\" class=\"dataframe\">\n",
       "  <thead>\n",
       "    <tr style=\"text-align: right;\">\n",
       "      <th></th>\n",
       "      <th>Description</th>\n",
       "      <th>10/29/21</th>\n",
       "      <th>11/30/21</th>\n",
       "      <th>12/31/21</th>\n",
       "      <th>1/31/22</th>\n",
       "      <th>2/28/22</th>\n",
       "      <th>3/31/22</th>\n",
       "      <th>4/29/22</th>\n",
       "      <th>5/31/22</th>\n",
       "      <th>6/30/22</th>\n",
       "      <th>...</th>\n",
       "      <th>1/31/24</th>\n",
       "      <th>2/29/24</th>\n",
       "      <th>3/29/24</th>\n",
       "      <th>4/30/24</th>\n",
       "      <th>5/31/24</th>\n",
       "      <th>6/28/24</th>\n",
       "      <th>7/31/24</th>\n",
       "      <th>8/30/24</th>\n",
       "      <th>9/30/24</th>\n",
       "      <th>10/31/24</th>\n",
       "    </tr>\n",
       "  </thead>\n",
       "  <tbody>\n",
       "    <tr>\n",
       "      <th>0</th>\n",
       "      <td>S&amp;P500 VOLATILITY INDEX</td>\n",
       "      <td>16.26</td>\n",
       "      <td>27.19</td>\n",
       "      <td>17.22</td>\n",
       "      <td>24.83</td>\n",
       "      <td>30.15</td>\n",
       "      <td>20.56</td>\n",
       "      <td>33.40</td>\n",
       "      <td>26.19</td>\n",
       "      <td>28.71</td>\n",
       "      <td>...</td>\n",
       "      <td>14.35</td>\n",
       "      <td>13.40</td>\n",
       "      <td>13.01</td>\n",
       "      <td>15.65</td>\n",
       "      <td>12.92</td>\n",
       "      <td>12.44</td>\n",
       "      <td>16.36</td>\n",
       "      <td>15.00</td>\n",
       "      <td>16.73</td>\n",
       "      <td>23.16</td>\n",
       "    </tr>\n",
       "    <tr>\n",
       "      <th>1</th>\n",
       "      <td>S&amp;P500 PX_LAST</td>\n",
       "      <td>4605.38</td>\n",
       "      <td>4567.00</td>\n",
       "      <td>4766.18</td>\n",
       "      <td>4515.55</td>\n",
       "      <td>4373.94</td>\n",
       "      <td>4530.41</td>\n",
       "      <td>4131.93</td>\n",
       "      <td>4132.15</td>\n",
       "      <td>3785.38</td>\n",
       "      <td>...</td>\n",
       "      <td>4845.65</td>\n",
       "      <td>5096.27</td>\n",
       "      <td>5254.35</td>\n",
       "      <td>5035.69</td>\n",
       "      <td>5277.51</td>\n",
       "      <td>5460.48</td>\n",
       "      <td>5522.30</td>\n",
       "      <td>5648.40</td>\n",
       "      <td>5762.48</td>\n",
       "      <td>5705.45</td>\n",
       "    </tr>\n",
       "    <tr>\n",
       "      <th>2</th>\n",
       "      <td>S&amp;P500 PX_BID</td>\n",
       "      <td>4561.03</td>\n",
       "      <td>4528.64</td>\n",
       "      <td>4701.56</td>\n",
       "      <td>4459.92</td>\n",
       "      <td>4299.02</td>\n",
       "      <td>4499.97</td>\n",
       "      <td>4108.68</td>\n",
       "      <td>4094.66</td>\n",
       "      <td>3733.31</td>\n",
       "      <td>...</td>\n",
       "      <td>4814.01</td>\n",
       "      <td>5042.80</td>\n",
       "      <td>5200.84</td>\n",
       "      <td>4970.00</td>\n",
       "      <td>5224.07</td>\n",
       "      <td>5426.23</td>\n",
       "      <td>5484.77</td>\n",
       "      <td>5571.95</td>\n",
       "      <td>5700.44</td>\n",
       "      <td>5669.85</td>\n",
       "    </tr>\n",
       "    <tr>\n",
       "      <th>3</th>\n",
       "      <td>S&amp;P500 PX_ASK</td>\n",
       "      <td>4677.16</td>\n",
       "      <td>4647.79</td>\n",
       "      <td>4834.94</td>\n",
       "      <td>4568.93</td>\n",
       "      <td>4419.26</td>\n",
       "      <td>4587.05</td>\n",
       "      <td>5434.72</td>\n",
       "      <td>4178.75</td>\n",
       "      <td>3819.46</td>\n",
       "      <td>...</td>\n",
       "      <td>4895.08</td>\n",
       "      <td>5160.48</td>\n",
       "      <td>5309.45</td>\n",
       "      <td>5075.58</td>\n",
       "      <td>5328.88</td>\n",
       "      <td>5513.21</td>\n",
       "      <td>5595.24</td>\n",
       "      <td>5713.68</td>\n",
       "      <td>5803.09</td>\n",
       "      <td>5764.36</td>\n",
       "    </tr>\n",
       "    <tr>\n",
       "      <th>4</th>\n",
       "      <td>EURO STOXX 50</td>\n",
       "      <td>4250.56</td>\n",
       "      <td>4063.06</td>\n",
       "      <td>4298.41</td>\n",
       "      <td>4174.60</td>\n",
       "      <td>3924.23</td>\n",
       "      <td>3902.52</td>\n",
       "      <td>3802.86</td>\n",
       "      <td>3789.21</td>\n",
       "      <td>3454.86</td>\n",
       "      <td>...</td>\n",
       "      <td>4648.40</td>\n",
       "      <td>4877.77</td>\n",
       "      <td>5083.42</td>\n",
       "      <td>4921.22</td>\n",
       "      <td>4983.67</td>\n",
       "      <td>4894.02</td>\n",
       "      <td>4872.94</td>\n",
       "      <td>4957.98</td>\n",
       "      <td>5000.45</td>\n",
       "      <td>4827.63</td>\n",
       "    </tr>\n",
       "  </tbody>\n",
       "</table>\n",
       "<p>5 rows × 38 columns</p>\n",
       "</div>"
      ],
      "text/plain": [
       "               Description  10/29/21  11/30/21  12/31/21  1/31/22  2/28/22  \\\n",
       "0  S&P500 VOLATILITY INDEX     16.26     27.19     17.22    24.83    30.15   \n",
       "1           S&P500 PX_LAST   4605.38   4567.00   4766.18  4515.55  4373.94   \n",
       "2            S&P500 PX_BID   4561.03   4528.64   4701.56  4459.92  4299.02   \n",
       "3            S&P500 PX_ASK   4677.16   4647.79   4834.94  4568.93  4419.26   \n",
       "4            EURO STOXX 50   4250.56   4063.06   4298.41  4174.60  3924.23   \n",
       "\n",
       "   3/31/22  4/29/22  5/31/22  6/30/22  ...  1/31/24  2/29/24  3/29/24  \\\n",
       "0    20.56    33.40    26.19    28.71  ...    14.35    13.40    13.01   \n",
       "1  4530.41  4131.93  4132.15  3785.38  ...  4845.65  5096.27  5254.35   \n",
       "2  4499.97  4108.68  4094.66  3733.31  ...  4814.01  5042.80  5200.84   \n",
       "3  4587.05  5434.72  4178.75  3819.46  ...  4895.08  5160.48  5309.45   \n",
       "4  3902.52  3802.86  3789.21  3454.86  ...  4648.40  4877.77  5083.42   \n",
       "\n",
       "   4/30/24  5/31/24  6/28/24  7/31/24  8/30/24  9/30/24  10/31/24  \n",
       "0    15.65    12.92    12.44    16.36    15.00    16.73     23.16  \n",
       "1  5035.69  5277.51  5460.48  5522.30  5648.40  5762.48   5705.45  \n",
       "2  4970.00  5224.07  5426.23  5484.77  5571.95  5700.44   5669.85  \n",
       "3  5075.58  5328.88  5513.21  5595.24  5713.68  5803.09   5764.36  \n",
       "4  4921.22  4983.67  4894.02  4872.94  4957.98  5000.45   4827.63  \n",
       "\n",
       "[5 rows x 38 columns]"
      ]
     },
     "execution_count": 25,
     "metadata": {},
     "output_type": "execute_result"
    }
   ],
   "source": [
    "data_ts_3.head()"
   ]
  },
  {
   "cell_type": "code",
   "execution_count": 26,
   "metadata": {},
   "outputs": [],
   "source": [
    "data_ts_3_pivot = data_ts_3.T"
   ]
  },
  {
   "cell_type": "code",
   "execution_count": 27,
   "metadata": {},
   "outputs": [
    {
     "data": {
      "application/vnd.microsoft.datawrangler.viewer.v0+json": {
       "columns": [
        {
         "name": "index",
         "rawType": "object",
         "type": "string"
        },
        {
         "name": "0",
         "rawType": "object",
         "type": "unknown"
        },
        {
         "name": "1",
         "rawType": "object",
         "type": "unknown"
        },
        {
         "name": "2",
         "rawType": "object",
         "type": "unknown"
        },
        {
         "name": "3",
         "rawType": "object",
         "type": "unknown"
        },
        {
         "name": "4",
         "rawType": "object",
         "type": "unknown"
        },
        {
         "name": "5",
         "rawType": "object",
         "type": "unknown"
        },
        {
         "name": "6",
         "rawType": "object",
         "type": "unknown"
        },
        {
         "name": "7",
         "rawType": "object",
         "type": "unknown"
        },
        {
         "name": "8",
         "rawType": "object",
         "type": "unknown"
        },
        {
         "name": "9",
         "rawType": "object",
         "type": "unknown"
        },
        {
         "name": "10",
         "rawType": "object",
         "type": "unknown"
        },
        {
         "name": "11",
         "rawType": "object",
         "type": "unknown"
        },
        {
         "name": "12",
         "rawType": "object",
         "type": "unknown"
        },
        {
         "name": "13",
         "rawType": "object",
         "type": "unknown"
        },
        {
         "name": "14",
         "rawType": "object",
         "type": "unknown"
        },
        {
         "name": "15",
         "rawType": "object",
         "type": "unknown"
        },
        {
         "name": "16",
         "rawType": "object",
         "type": "unknown"
        },
        {
         "name": "17",
         "rawType": "object",
         "type": "unknown"
        },
        {
         "name": "18",
         "rawType": "object",
         "type": "unknown"
        },
        {
         "name": "19",
         "rawType": "object",
         "type": "unknown"
        },
        {
         "name": "20",
         "rawType": "object",
         "type": "unknown"
        },
        {
         "name": "21",
         "rawType": "object",
         "type": "unknown"
        },
        {
         "name": "22",
         "rawType": "object",
         "type": "unknown"
        },
        {
         "name": "23",
         "rawType": "object",
         "type": "unknown"
        },
        {
         "name": "24",
         "rawType": "object",
         "type": "unknown"
        },
        {
         "name": "25",
         "rawType": "object",
         "type": "unknown"
        },
        {
         "name": "26",
         "rawType": "object",
         "type": "unknown"
        },
        {
         "name": "27",
         "rawType": "object",
         "type": "unknown"
        },
        {
         "name": "28",
         "rawType": "object",
         "type": "unknown"
        },
        {
         "name": "29",
         "rawType": "object",
         "type": "unknown"
        },
        {
         "name": "30",
         "rawType": "object",
         "type": "unknown"
        },
        {
         "name": "31",
         "rawType": "object",
         "type": "unknown"
        },
        {
         "name": "32",
         "rawType": "object",
         "type": "unknown"
        },
        {
         "name": "33",
         "rawType": "object",
         "type": "unknown"
        },
        {
         "name": "34",
         "rawType": "object",
         "type": "unknown"
        },
        {
         "name": "35",
         "rawType": "object",
         "type": "unknown"
        },
        {
         "name": "36",
         "rawType": "object",
         "type": "unknown"
        },
        {
         "name": "37",
         "rawType": "object",
         "type": "unknown"
        },
        {
         "name": "38",
         "rawType": "object",
         "type": "unknown"
        },
        {
         "name": "39",
         "rawType": "object",
         "type": "unknown"
        },
        {
         "name": "40",
         "rawType": "object",
         "type": "unknown"
        },
        {
         "name": "41",
         "rawType": "object",
         "type": "unknown"
        },
        {
         "name": "42",
         "rawType": "object",
         "type": "unknown"
        },
        {
         "name": "43",
         "rawType": "object",
         "type": "unknown"
        },
        {
         "name": "44",
         "rawType": "object",
         "type": "unknown"
        },
        {
         "name": "45",
         "rawType": "object",
         "type": "unknown"
        },
        {
         "name": "46",
         "rawType": "object",
         "type": "unknown"
        },
        {
         "name": "47",
         "rawType": "object",
         "type": "unknown"
        },
        {
         "name": "48",
         "rawType": "object",
         "type": "unknown"
        },
        {
         "name": "49",
         "rawType": "object",
         "type": "unknown"
        },
        {
         "name": "50",
         "rawType": "object",
         "type": "unknown"
        },
        {
         "name": "51",
         "rawType": "object",
         "type": "unknown"
        },
        {
         "name": "52",
         "rawType": "object",
         "type": "unknown"
        },
        {
         "name": "53",
         "rawType": "object",
         "type": "unknown"
        },
        {
         "name": "54",
         "rawType": "object",
         "type": "unknown"
        },
        {
         "name": "55",
         "rawType": "object",
         "type": "unknown"
        },
        {
         "name": "56",
         "rawType": "object",
         "type": "unknown"
        },
        {
         "name": "57",
         "rawType": "object",
         "type": "unknown"
        },
        {
         "name": "58",
         "rawType": "object",
         "type": "unknown"
        },
        {
         "name": "59",
         "rawType": "object",
         "type": "unknown"
        },
        {
         "name": "60",
         "rawType": "object",
         "type": "unknown"
        },
        {
         "name": "61",
         "rawType": "object",
         "type": "unknown"
        },
        {
         "name": "62",
         "rawType": "object",
         "type": "unknown"
        },
        {
         "name": "63",
         "rawType": "object",
         "type": "unknown"
        },
        {
         "name": "64",
         "rawType": "object",
         "type": "unknown"
        },
        {
         "name": "65",
         "rawType": "object",
         "type": "unknown"
        },
        {
         "name": "66",
         "rawType": "object",
         "type": "unknown"
        },
        {
         "name": "67",
         "rawType": "object",
         "type": "unknown"
        },
        {
         "name": "68",
         "rawType": "object",
         "type": "unknown"
        },
        {
         "name": "69",
         "rawType": "object",
         "type": "unknown"
        },
        {
         "name": "70",
         "rawType": "object",
         "type": "unknown"
        },
        {
         "name": "71",
         "rawType": "object",
         "type": "unknown"
        },
        {
         "name": "72",
         "rawType": "object",
         "type": "unknown"
        },
        {
         "name": "73",
         "rawType": "object",
         "type": "unknown"
        },
        {
         "name": "74",
         "rawType": "object",
         "type": "unknown"
        },
        {
         "name": "75",
         "rawType": "object",
         "type": "unknown"
        },
        {
         "name": "76",
         "rawType": "object",
         "type": "unknown"
        },
        {
         "name": "77",
         "rawType": "object",
         "type": "unknown"
        }
       ],
       "ref": "86b7d446-2309-4013-96b7-5ca577741eeb",
       "rows": [
        [
         "Description",
         "S&P500 VOLATILITY INDEX",
         "S&P500 PX_LAST",
         "S&P500 PX_BID",
         "S&P500 PX_ASK",
         "EURO STOXX 50",
         "STOXX EUROPE 600",
         "EURO STOXX 50 VOLATILITY",
         "EUROPEAN RENEWABLE ENERGY INDEX",
         "US IMPLIED YIELD VOLATILITY INDEX",
         "GOLD IN EUR PX_LAST",
         "GOLD IN EUR PX_BID",
         "GOLD IN EUR PX_ASK",
         "GOLD IN USD PX_LAST",
         "GOLD IN USD PX_BID",
         "GOLD IN USD PX_ASK",
         "BRENT CRUDE PX_LAST",
         "BRENT CRUDE PX_BID",
         "BRENT CRUDE PX_ASK",
         "WTI PX_LAST",
         "WTI PX_BID",
         "WTI PX_ASK",
         "NASDAQ 100",
         "MSCI ACWI AEROSPACE & DEFENSE INDEX",
         "DOW JONES U.S. DEFENCE INDEX",
         "STOXX EUROPE 600 ENERGY INDEX",
         "S&P 500 ESG INDEX (USD)",
         "RUSSEL 2000",
         "EURO-BUND FUTURES PX_LAST",
         "EURO-BUND FUTURES PX_BID",
         "EURO-BUND FUTURES PX_ASK",
         "GERMANY 30-YEAR BOND YTM_BID",
         "GERMANY 30-YEAR BOND YTM_ASK",
         "GERMANY 15-YEAR BOND YTM_BID",
         "GERMANY 15-YEAR BOND YTM_ASK",
         "GERMANY 10-YEAR BOND YTM_BID",
         "GERMANY 10-YEAR BOND YTM_ASK",
         "GERMANY 7-YEAR BOND YTM_BID",
         "GERMANY 7-YEAR BOND YTM_ASK",
         "GERMANY 5-YEAR BOND YTM_BID",
         "GERMANY 5-YEAR BOND YTM_ASK",
         "GERMANY 3-YEAR BOND YTM_BID",
         "GERMANY 3-YEAR BOND YTM_ASK",
         "GERMANY 2-YEAR BOND YTM_BID",
         "GERMANY 2-YEAR BOND YTM_ASK",
         "ECB MAIN REFINANCING OPERATIONS RATE",
         "US EFFECTIVE FEDERAL FUNDS RATE",
         "ECB DEPOSIT FACILITY RATE",
         "US 30-YEAR BOND YTM_BID",
         "US 30-YEAR BOND YTM_ASK",
         "US 20-YEAR BOND YTM_BID",
         "US 20-YEAR BOND YTM_ASK",
         "US 10-YEAR BOND YTM_BID",
         "US 10-YEAR BOND YTM_ASK",
         "US 7-YEAR BOND YTM_BID",
         "US 7-YEAR BOND YTM_ASK",
         "US 5-YEAR BOND YTM_BID",
         "US 5-YEAR BOND YTM_ASK",
         "US 3-YEAR BOND YTM_BID",
         "US 3-YEAR BOND YTM_ASK",
         "US 2-YEAR BOND YTM_BID",
         "US 2-YEAR BOND YTM_ASK",
         "EUROZONE 30-YEAR BOND  YTM_BID",
         "EUROZONE 30-YEAR BOND YTM_ASK",
         "EUROZONE 15-YEAR BOND YTM_BID",
         "EUROZONE 15-YEAR BOND YTM_ASK",
         "EUROZONE 10-YEAR BOND YTM_BID",
         "EUROZONE 10-YEAR BOND YTM_ASK",
         "EUROZONE 7-YEARBOND YTM_BID",
         "EUROZONE 7-YEAR BOND YTM_ASK",
         "EUROZONE 5-YEAR BOND YTM_BID",
         "EUROZONE 5-YEAR BOND YTM_ASK",
         "EUROZONE 3-YEAR BOND YTM_BID",
         "EUROZONE 3-YEAR BOND YTM_ASK",
         "EUROZONE 2-YEAR BOND YTM_BID",
         "EUROZONE 2-YEAR BOND YTM_ASK",
         "NASDAQ CLEAN EDGE GREEN ENERGY",
         "MSCI EUROPE SELECT GREEN 50 5% DECREMENT NET INDEX (EUR)",
         "BLOOMBERG ECONOMIC SURPRISE INDEX - EUROZONE"
        ],
        [
         "10/29/21",
         "16.26",
         "4605.38",
         "4561.03",
         "4677.16",
         "4250.56",
         "475.51",
         "17.6164",
         "2458.32",
         "75.45",
         "1542.54",
         "1542.06",
         "1543.03",
         "1783.38",
         "1783.02",
         "1783.74",
         "84.38",
         "84.38",
         "84.4",
         "83.57",
         "83.2",
         "83.25",
         "15850.47",
         "484.41",
         "473.22",
         "96.06",
         "398.8",
         "2297.191",
         "168.12",
         "168.37",
         "168.39",
         "0.138",
         "0.131",
         "0.024",
         "0.013",
         "-0.106",
         "-0.108",
         "-0.261",
         "-0.264",
         "-0.39",
         "-0.394",
         "-0.542",
         "-0.553",
         "-0.585",
         "-0.597",
         "0.0",
         "0.08",
         "-0.5",
         "1.936",
         "1.933",
         "1.977",
         "1.97",
         "1.557",
         "1.552",
         "1.457",
         "1.45",
         "1.186",
         "1.183",
         "0.756",
         "0.754",
         "0.501",
         "0.497",
         "0.138",
         "0.131",
         "0.024",
         "0.013",
         "-0.106",
         "-0.108",
         "-0.261",
         "-0.264",
         "-0.39",
         "-0.394",
         "-0.542",
         "-0.553",
         "-0.585",
         "-0.597",
         "1012.5",
         "1864.62",
         "105.61"
        ],
        [
         "11/30/21",
         "27.19",
         "4567.0",
         "4528.64",
         "4647.79",
         "4063.06",
         "462.96",
         "30.0679",
         "2294.14",
         "84.04",
         "1565.07",
         "1564.3",
         "1565.84",
         "1774.52",
         "1774.11",
         "1774.93",
         "70.57",
         "70.53",
         "70.57",
         "66.18",
         "66.88",
         "67.0",
         "16135.92",
         "449.23",
         "453.9",
         "88.36",
         "398.84",
         "2198.908",
         "172.37",
         "172.35",
         "172.36",
         "-0.058",
         "-0.065",
         "-0.178",
         "-0.189",
         null,
         "-0.353",
         "-0.511",
         "-0.519",
         "-0.618",
         "-0.627",
         "-0.744",
         "-0.759",
         "-0.737",
         "-0.756",
         "0.0",
         "0.08",
         "-0.5",
         "1.795",
         "1.791",
         "1.864",
         "1.86",
         "1.449",
         "1.444",
         "1.378",
         "1.371",
         "1.163",
         "1.16",
         "0.841",
         "0.838",
         "0.571",
         "0.565",
         "-0.058",
         "-0.065",
         "-0.178",
         "-0.189",
         "-0.349",
         "-0.353",
         "-0.511",
         "-0.519",
         "-0.618",
         "-0.627",
         "-0.744",
         "-0.759",
         "-0.737",
         "-0.756",
         "1008.21",
         "1808.27",
         "100.34"
        ],
        [
         "12/31/21",
         "17.22",
         "4766.18",
         "4701.56",
         "4834.94",
         "4298.41",
         "487.8",
         "19.2677",
         "2216.63",
         "77.1",
         "1608.82",
         "1606.09",
         "1611.54",
         "1829.2",
         "1828.45",
         "1829.95",
         "77.78",
         "77.89",
         "77.93",
         "75.21",
         "75.37",
         "75.47",
         "16320.08",
         "481.17",
         "485.26",
         "92.1",
         "414.57",
         "2245.313",
         "171.37",
         "171.44",
         "171.47",
         "0.197",
         "0.186",
         "0.026",
         "0.008",
         "-0.177",
         "-0.186",
         "-0.351",
         "-0.366",
         "-0.453",
         "-0.469",
         "-0.641",
         "-0.67",
         "-0.62",
         "-0.651",
         "0.0",
         "0.08",
         "-0.5",
         "1.905",
         "1.903",
         "1.936",
         "1.933",
         "1.514",
         "1.51",
         "1.439",
         "1.436",
         "1.265",
         "1.263",
         "0.96",
         "0.957",
         "0.736",
         "0.732",
         "0.197",
         "0.186",
         "0.026",
         "0.008",
         "-0.177",
         "-0.186",
         "-0.351",
         "-0.366",
         "-0.453",
         "-0.469",
         "-0.641",
         "-0.67",
         "-0.62",
         "-0.651",
         "889.43",
         "1880.8",
         "106.93"
        ],
        [
         "1/31/22",
         "24.83",
         "4515.55",
         "4459.92",
         "4568.93",
         "4174.6",
         "468.88",
         "27.0084",
         "1970.35",
         "85.14",
         "1599.48",
         "1598.61",
         "1600.34",
         "1797.17",
         "1796.77",
         "1797.56",
         "91.21",
         "91.27",
         "91.28",
         "88.15",
         "88.12",
         "88.18",
         "14930.05",
         "483.62",
         "493.71",
         "100.01",
         "393.85",
         "2028.453",
         "169.11",
         "169.06",
         "169.07",
         "0.277",
         "0.271",
         "0.15",
         "0.143",
         "0.011",
         "0.007",
         "-0.172",
         "-0.179",
         "-0.22",
         "-0.234",
         "-0.426",
         "-0.436",
         "-0.528",
         "-0.544",
         "0.0",
         "0.08",
         "-0.5",
         "2.111",
         "2.108",
         "2.18",
         "2.175",
         "1.78",
         "1.777",
         "1.74",
         "1.738",
         "1.611",
         "1.609",
         "1.38",
         "1.377",
         "1.181",
         "1.179",
         "0.277",
         "0.271",
         "0.15",
         "0.143",
         "0.011",
         "0.007",
         "-0.172",
         "-0.179",
         "-0.22",
         "-0.234",
         "-0.426",
         "-0.436",
         "-0.528",
         "-0.544",
         "748.43",
         "1734.29",
         "100.96"
        ]
       ],
       "shape": {
        "columns": 78,
        "rows": 5
       }
      },
      "text/html": [
       "<div>\n",
       "<style scoped>\n",
       "    .dataframe tbody tr th:only-of-type {\n",
       "        vertical-align: middle;\n",
       "    }\n",
       "\n",
       "    .dataframe tbody tr th {\n",
       "        vertical-align: top;\n",
       "    }\n",
       "\n",
       "    .dataframe thead th {\n",
       "        text-align: right;\n",
       "    }\n",
       "</style>\n",
       "<table border=\"1\" class=\"dataframe\">\n",
       "  <thead>\n",
       "    <tr style=\"text-align: right;\">\n",
       "      <th></th>\n",
       "      <th>0</th>\n",
       "      <th>1</th>\n",
       "      <th>2</th>\n",
       "      <th>3</th>\n",
       "      <th>4</th>\n",
       "      <th>5</th>\n",
       "      <th>6</th>\n",
       "      <th>7</th>\n",
       "      <th>8</th>\n",
       "      <th>9</th>\n",
       "      <th>...</th>\n",
       "      <th>68</th>\n",
       "      <th>69</th>\n",
       "      <th>70</th>\n",
       "      <th>71</th>\n",
       "      <th>72</th>\n",
       "      <th>73</th>\n",
       "      <th>74</th>\n",
       "      <th>75</th>\n",
       "      <th>76</th>\n",
       "      <th>77</th>\n",
       "    </tr>\n",
       "  </thead>\n",
       "  <tbody>\n",
       "    <tr>\n",
       "      <th>Description</th>\n",
       "      <td>S&amp;P500 VOLATILITY INDEX</td>\n",
       "      <td>S&amp;P500 PX_LAST</td>\n",
       "      <td>S&amp;P500 PX_BID</td>\n",
       "      <td>S&amp;P500 PX_ASK</td>\n",
       "      <td>EURO STOXX 50</td>\n",
       "      <td>STOXX EUROPE 600</td>\n",
       "      <td>EURO STOXX 50 VOLATILITY</td>\n",
       "      <td>EUROPEAN RENEWABLE ENERGY INDEX</td>\n",
       "      <td>US IMPLIED YIELD VOLATILITY INDEX</td>\n",
       "      <td>GOLD IN EUR PX_LAST</td>\n",
       "      <td>...</td>\n",
       "      <td>EUROZONE 7-YEAR BOND YTM_ASK</td>\n",
       "      <td>EUROZONE 5-YEAR BOND YTM_BID</td>\n",
       "      <td>EUROZONE 5-YEAR BOND YTM_ASK</td>\n",
       "      <td>EUROZONE 3-YEAR BOND YTM_BID</td>\n",
       "      <td>EUROZONE 3-YEAR BOND YTM_ASK</td>\n",
       "      <td>EUROZONE 2-YEAR BOND YTM_BID</td>\n",
       "      <td>EUROZONE 2-YEAR BOND YTM_ASK</td>\n",
       "      <td>NASDAQ CLEAN EDGE GREEN ENERGY</td>\n",
       "      <td>MSCI EUROPE SELECT GREEN 50 5% DECREMENT NET I...</td>\n",
       "      <td>BLOOMBERG ECONOMIC SURPRISE INDEX - EUROZONE</td>\n",
       "    </tr>\n",
       "    <tr>\n",
       "      <th>10/29/21</th>\n",
       "      <td>16.26</td>\n",
       "      <td>4605.38</td>\n",
       "      <td>4561.03</td>\n",
       "      <td>4677.16</td>\n",
       "      <td>4250.56</td>\n",
       "      <td>475.51</td>\n",
       "      <td>17.6164</td>\n",
       "      <td>2458.32</td>\n",
       "      <td>75.45</td>\n",
       "      <td>1542.54</td>\n",
       "      <td>...</td>\n",
       "      <td>-0.264</td>\n",
       "      <td>-0.39</td>\n",
       "      <td>-0.394</td>\n",
       "      <td>-0.542</td>\n",
       "      <td>-0.553</td>\n",
       "      <td>-0.585</td>\n",
       "      <td>-0.597</td>\n",
       "      <td>1012.5</td>\n",
       "      <td>1864.62</td>\n",
       "      <td>105.61</td>\n",
       "    </tr>\n",
       "    <tr>\n",
       "      <th>11/30/21</th>\n",
       "      <td>27.19</td>\n",
       "      <td>4567.0</td>\n",
       "      <td>4528.64</td>\n",
       "      <td>4647.79</td>\n",
       "      <td>4063.06</td>\n",
       "      <td>462.96</td>\n",
       "      <td>30.0679</td>\n",
       "      <td>2294.14</td>\n",
       "      <td>84.04</td>\n",
       "      <td>1565.07</td>\n",
       "      <td>...</td>\n",
       "      <td>-0.519</td>\n",
       "      <td>-0.618</td>\n",
       "      <td>-0.627</td>\n",
       "      <td>-0.744</td>\n",
       "      <td>-0.759</td>\n",
       "      <td>-0.737</td>\n",
       "      <td>-0.756</td>\n",
       "      <td>1008.21</td>\n",
       "      <td>1808.27</td>\n",
       "      <td>100.34</td>\n",
       "    </tr>\n",
       "    <tr>\n",
       "      <th>12/31/21</th>\n",
       "      <td>17.22</td>\n",
       "      <td>4766.18</td>\n",
       "      <td>4701.56</td>\n",
       "      <td>4834.94</td>\n",
       "      <td>4298.41</td>\n",
       "      <td>487.8</td>\n",
       "      <td>19.2677</td>\n",
       "      <td>2216.63</td>\n",
       "      <td>77.1</td>\n",
       "      <td>1608.82</td>\n",
       "      <td>...</td>\n",
       "      <td>-0.366</td>\n",
       "      <td>-0.453</td>\n",
       "      <td>-0.469</td>\n",
       "      <td>-0.641</td>\n",
       "      <td>-0.67</td>\n",
       "      <td>-0.62</td>\n",
       "      <td>-0.651</td>\n",
       "      <td>889.43</td>\n",
       "      <td>1880.8</td>\n",
       "      <td>106.93</td>\n",
       "    </tr>\n",
       "    <tr>\n",
       "      <th>1/31/22</th>\n",
       "      <td>24.83</td>\n",
       "      <td>4515.55</td>\n",
       "      <td>4459.92</td>\n",
       "      <td>4568.93</td>\n",
       "      <td>4174.6</td>\n",
       "      <td>468.88</td>\n",
       "      <td>27.0084</td>\n",
       "      <td>1970.35</td>\n",
       "      <td>85.14</td>\n",
       "      <td>1599.48</td>\n",
       "      <td>...</td>\n",
       "      <td>-0.179</td>\n",
       "      <td>-0.22</td>\n",
       "      <td>-0.234</td>\n",
       "      <td>-0.426</td>\n",
       "      <td>-0.436</td>\n",
       "      <td>-0.528</td>\n",
       "      <td>-0.544</td>\n",
       "      <td>748.43</td>\n",
       "      <td>1734.29</td>\n",
       "      <td>100.96</td>\n",
       "    </tr>\n",
       "  </tbody>\n",
       "</table>\n",
       "<p>5 rows × 78 columns</p>\n",
       "</div>"
      ],
      "text/plain": [
       "                                  0               1              2   \\\n",
       "Description  S&P500 VOLATILITY INDEX  S&P500 PX_LAST  S&P500 PX_BID   \n",
       "10/29/21                       16.26         4605.38        4561.03   \n",
       "11/30/21                       27.19          4567.0        4528.64   \n",
       "12/31/21                       17.22         4766.18        4701.56   \n",
       "1/31/22                        24.83         4515.55        4459.92   \n",
       "\n",
       "                        3              4                 5   \\\n",
       "Description  S&P500 PX_ASK  EURO STOXX 50  STOXX EUROPE 600   \n",
       "10/29/21           4677.16        4250.56            475.51   \n",
       "11/30/21           4647.79        4063.06            462.96   \n",
       "12/31/21           4834.94        4298.41             487.8   \n",
       "1/31/22            4568.93         4174.6            468.88   \n",
       "\n",
       "                                   6                                7   \\\n",
       "Description  EURO STOXX 50 VOLATILITY  EUROPEAN RENEWABLE ENERGY INDEX   \n",
       "10/29/21                      17.6164                          2458.32   \n",
       "11/30/21                      30.0679                          2294.14   \n",
       "12/31/21                      19.2677                          2216.63   \n",
       "1/31/22                       27.0084                          1970.35   \n",
       "\n",
       "                                            8                    9   ...  \\\n",
       "Description  US IMPLIED YIELD VOLATILITY INDEX  GOLD IN EUR PX_LAST  ...   \n",
       "10/29/21                                 75.45              1542.54  ...   \n",
       "11/30/21                                 84.04              1565.07  ...   \n",
       "12/31/21                                  77.1              1608.82  ...   \n",
       "1/31/22                                  85.14              1599.48  ...   \n",
       "\n",
       "                                       68                            69  \\\n",
       "Description  EUROZONE 7-YEAR BOND YTM_ASK  EUROZONE 5-YEAR BOND YTM_BID   \n",
       "10/29/21                           -0.264                         -0.39   \n",
       "11/30/21                           -0.519                        -0.618   \n",
       "12/31/21                           -0.366                        -0.453   \n",
       "1/31/22                            -0.179                         -0.22   \n",
       "\n",
       "                                       70                            71  \\\n",
       "Description  EUROZONE 5-YEAR BOND YTM_ASK  EUROZONE 3-YEAR BOND YTM_BID   \n",
       "10/29/21                           -0.394                        -0.542   \n",
       "11/30/21                           -0.627                        -0.744   \n",
       "12/31/21                           -0.469                        -0.641   \n",
       "1/31/22                            -0.234                        -0.426   \n",
       "\n",
       "                                       72                            73  \\\n",
       "Description  EUROZONE 3-YEAR BOND YTM_ASK  EUROZONE 2-YEAR BOND YTM_BID   \n",
       "10/29/21                           -0.553                        -0.585   \n",
       "11/30/21                           -0.759                        -0.737   \n",
       "12/31/21                            -0.67                         -0.62   \n",
       "1/31/22                            -0.436                        -0.528   \n",
       "\n",
       "                                       74                              75  \\\n",
       "Description  EUROZONE 2-YEAR BOND YTM_ASK  NASDAQ CLEAN EDGE GREEN ENERGY   \n",
       "10/29/21                           -0.597                          1012.5   \n",
       "11/30/21                           -0.756                         1008.21   \n",
       "12/31/21                           -0.651                          889.43   \n",
       "1/31/22                            -0.544                          748.43   \n",
       "\n",
       "                                                            76  \\\n",
       "Description  MSCI EUROPE SELECT GREEN 50 5% DECREMENT NET I...   \n",
       "10/29/21                                               1864.62   \n",
       "11/30/21                                               1808.27   \n",
       "12/31/21                                                1880.8   \n",
       "1/31/22                                                1734.29   \n",
       "\n",
       "                                                       77  \n",
       "Description  BLOOMBERG ECONOMIC SURPRISE INDEX - EUROZONE  \n",
       "10/29/21                                           105.61  \n",
       "11/30/21                                           100.34  \n",
       "12/31/21                                           106.93  \n",
       "1/31/22                                            100.96  \n",
       "\n",
       "[5 rows x 78 columns]"
      ]
     },
     "execution_count": 27,
     "metadata": {},
     "output_type": "execute_result"
    }
   ],
   "source": [
    "data_ts_3_pivot.head()"
   ]
  },
  {
   "cell_type": "code",
   "execution_count": 28,
   "metadata": {},
   "outputs": [],
   "source": [
    "data_ts_3_pivot.columns = data_ts_3_pivot.iloc[0]"
   ]
  },
  {
   "cell_type": "code",
   "execution_count": 29,
   "metadata": {},
   "outputs": [],
   "source": [
    "data_ts_3_pivot = data_ts_3_pivot.drop(index='Description')"
   ]
  },
  {
   "cell_type": "code",
   "execution_count": 30,
   "metadata": {},
   "outputs": [],
   "source": [
    "data_ts_3_pivot.index = pd.to_datetime(data_ts_3_pivot.index, format='%m/%d/%y')\n",
    "data_ts_3_pivot.index = data_ts_3_pivot.index.to_period('M')"
   ]
  },
  {
   "cell_type": "code",
   "execution_count": 31,
   "metadata": {},
   "outputs": [],
   "source": [
    "data_ts_3_pivot.index.name = 'Date'"
   ]
  },
  {
   "cell_type": "markdown",
   "metadata": {},
   "source": [
    "Merging the two datasets\n"
   ]
  },
  {
   "cell_type": "code",
   "execution_count": 32,
   "metadata": {},
   "outputs": [],
   "source": [
    "pivot = pivot.drop(columns='Date')"
   ]
  },
  {
   "cell_type": "code",
   "execution_count": 33,
   "metadata": {},
   "outputs": [],
   "source": [
    "final_1 = pd.merge(pivot, data_ts_3_pivot, how='outer', on='Date')"
   ]
  },
  {
   "cell_type": "code",
   "execution_count": 34,
   "metadata": {},
   "outputs": [],
   "source": [
    "final_1.rename(columns={final_1.columns[0]:'Ticker'}, inplace=True)"
   ]
  },
  {
   "cell_type": "markdown",
   "metadata": {},
   "source": [
    "Static data import and merge"
   ]
  },
  {
   "cell_type": "code",
   "execution_count": 35,
   "metadata": {},
   "outputs": [],
   "source": [
    "static_1 = pd.read_csv('/Users/marcohattingh/Desktop/Research Assignment/Data/Bonds Static data 2.csv')"
   ]
  },
  {
   "cell_type": "code",
   "execution_count": 36,
   "metadata": {},
   "outputs": [],
   "source": [
    "static_1.rename(columns={static_1.columns[0]:'Ticker'}, inplace=True)"
   ]
  },
  {
   "cell_type": "code",
   "execution_count": 37,
   "metadata": {},
   "outputs": [],
   "source": [
    "static_2 = pd.read_csv('/Users/marcohattingh/Desktop/Research Assignment/Data/Bonds Static data 3.csv')"
   ]
  },
  {
   "cell_type": "code",
   "execution_count": 38,
   "metadata": {},
   "outputs": [],
   "source": [
    "static_2.rename(columns={static_2.columns[7]:'Ticker'}, inplace=True)"
   ]
  },
  {
   "cell_type": "code",
   "execution_count": 39,
   "metadata": {},
   "outputs": [],
   "source": [
    "static_3 = pd.read_csv('/Users/marcohattingh/Desktop/Research Assignment/Data/Bonds Static data 4.csv')"
   ]
  },
  {
   "cell_type": "code",
   "execution_count": 40,
   "metadata": {},
   "outputs": [],
   "source": [
    "static_3.rename(columns={static_3.columns[11]:'Ticker'}, inplace=True)"
   ]
  },
  {
   "cell_type": "code",
   "execution_count": 41,
   "metadata": {},
   "outputs": [],
   "source": [
    "static_4 = pd.read_csv('/Users/marcohattingh/Desktop/Research Assignment/Data/Bonds Static data 5_use of proceeds.csv')"
   ]
  },
  {
   "cell_type": "code",
   "execution_count": 42,
   "metadata": {},
   "outputs": [],
   "source": [
    "static_4.rename(columns={static_4.columns[1]:'Ticker'}, inplace= True)"
   ]
  },
  {
   "cell_type": "code",
   "execution_count": 43,
   "metadata": {},
   "outputs": [],
   "source": [
    "final_1['Date'] = final_1.index"
   ]
  },
  {
   "cell_type": "code",
   "execution_count": 44,
   "metadata": {},
   "outputs": [],
   "source": [
    "final_2 = pd.merge(final_1, static_1,  how='outer', on='Ticker')"
   ]
  },
  {
   "cell_type": "code",
   "execution_count": 45,
   "metadata": {},
   "outputs": [],
   "source": [
    "final_2 = pd.merge(final_2, static_2,  how='outer', on='Ticker')"
   ]
  },
  {
   "cell_type": "code",
   "execution_count": 46,
   "metadata": {},
   "outputs": [],
   "source": [
    "final_2 = pd.merge(final_2, static_3,  how='outer', on='Ticker')"
   ]
  },
  {
   "cell_type": "code",
   "execution_count": 47,
   "metadata": {},
   "outputs": [],
   "source": [
    "final_2 = pd.merge(final_2, static_4,  how='outer', on='Ticker')"
   ]
  },
  {
   "cell_type": "code",
   "execution_count": 48,
   "metadata": {},
   "outputs": [
    {
     "name": "stderr",
     "output_type": "stream",
     "text": [
      "/var/folders/9d/d6f8nwyx00gf8_tltm7pqtyc0000gn/T/ipykernel_6874/1454516632.py:1: FutureWarning: Downcasting behavior in `replace` is deprecated and will be removed in a future version. To retain the old behavior, explicitly call `result.infer_objects(copy=False)`. To opt-in to the future behavior, set `pd.set_option('future.no_silent_downcasting', True)`\n",
      "  final_2.replace('#N/A Field Not Applicable', np.nan, inplace=True)\n"
     ]
    }
   ],
   "source": [
    "final_2.replace('#N/A Field Not Applicable', np.nan, inplace=True)"
   ]
  },
  {
   "cell_type": "code",
   "execution_count": 49,
   "metadata": {},
   "outputs": [],
   "source": [
    "final_2.index = final_2['Date']"
   ]
  },
  {
   "cell_type": "code",
   "execution_count": 50,
   "metadata": {},
   "outputs": [],
   "source": [
    "final_2 = final_2.drop(columns='Date')"
   ]
  },
  {
   "cell_type": "markdown",
   "metadata": {},
   "source": [
    "Analysing of dataset"
   ]
  },
  {
   "cell_type": "code",
   "execution_count": 51,
   "metadata": {},
   "outputs": [],
   "source": [
    "pd.set_option('display.max_rows', None)\n",
    "#print(final_2.dtypes)"
   ]
  },
  {
   "cell_type": "code",
   "execution_count": 52,
   "metadata": {},
   "outputs": [],
   "source": [
    "#print(type(final_2))"
   ]
  },
  {
   "cell_type": "code",
   "execution_count": 53,
   "metadata": {},
   "outputs": [],
   "source": [
    "pd.set_option('display.max_rows', None)\n",
    "#print(final_2.dtypes)"
   ]
  },
  {
   "cell_type": "code",
   "execution_count": 54,
   "metadata": {},
   "outputs": [],
   "source": [
    "\n",
    "def convert_columns(final_2, max_unique_ratio=0.1, max_unique_count=20):\n",
    "    for col in final_2.columns:\n",
    "        print(f\"Processing column: {col}\")\n",
    "\n",
    "        # Step 1: Handle numeric conversion more robustly\n",
    "        try:\n",
    "            # First try converting to numeric, preserving original type if possible\n",
    "            numeric_series = pd.to_numeric(final_2[col], errors='coerce')\n",
    "            \n",
    "            # Check if conversion was meaningful\n",
    "            if not numeric_series.isna().all():\n",
    "                # Prefer integer if no decimal loss\n",
    "                if np.allclose(numeric_series, numeric_series.astype(int), rtol=1e-5, atol=1e-8):\n",
    "                    final_2[col] = numeric_series.astype(int)\n",
    "                    print(f\"Column {col} converted to integer\")\n",
    "                else:\n",
    "                    final_2[col] = numeric_series.astype(float)\n",
    "                    print(f\"Column {col} converted to float\")\n",
    "                continue\n",
    "        except Exception as e:\n",
    "            print(f\"Detailed error converting column {col} to numeric: {e}\")\n",
    "\n",
    "        # Step 2: Handle categorical columns more carefully\n",
    "        if final_2[col].dtype == 'object':\n",
    "            unique_count = final_2[col].nunique()\n",
    "            total_count = len(final_2[col])\n",
    "            \n",
    "            # Multiple checks for categorical\n",
    "            if (unique_count / total_count < max_unique_ratio) or \\\n",
    "               (0 < unique_count <= max_unique_count):\n",
    "                final_2[col] = final_2[col].astype('category')\n",
    "                print(f\"Column {col} converted to category\")\n",
    "\n",
    "    return final_2"
   ]
  },
  {
   "cell_type": "code",
   "execution_count": null,
   "metadata": {},
   "outputs": [
    {
     "name": "stdout",
     "output_type": "stream",
     "text": [
      "Processing column: Ticker\n",
      "Column Ticker converted to category\n",
      "Processing column: PX_ASK\n",
      "Detailed error converting column PX_ASK to numeric: Cannot convert non-finite values (NA or inf) to integer\n",
      "Processing column: PX_BID\n",
      "Detailed error converting column PX_BID to numeric: Cannot convert non-finite values (NA or inf) to integer\n",
      "Processing column: YLD_YTM_ASK\n",
      "Detailed error converting column YLD_YTM_ASK to numeric: Cannot convert non-finite values (NA or inf) to integer\n",
      "Processing column: YLD_YTM_BID\n",
      "Detailed error converting column YLD_YTM_BID to numeric: Cannot convert non-finite values (NA or inf) to integer\n",
      "Processing column: Classification\n",
      "Column Classification converted to category\n",
      "Processing column: S&P500 VOLATILITY INDEX\n",
      "Detailed error converting column S&P500 VOLATILITY INDEX to numeric: Cannot convert non-finite values (NA or inf) to integer\n",
      "Processing column: S&P500 PX_LAST\n",
      "Detailed error converting column S&P500 PX_LAST to numeric: Cannot convert non-finite values (NA or inf) to integer\n",
      "Processing column: S&P500 PX_BID\n",
      "Detailed error converting column S&P500 PX_BID to numeric: Cannot convert non-finite values (NA or inf) to integer\n",
      "Processing column: S&P500 PX_ASK\n",
      "Detailed error converting column S&P500 PX_ASK to numeric: Cannot convert non-finite values (NA or inf) to integer\n",
      "Processing column: EURO STOXX 50\n",
      "Detailed error converting column EURO STOXX 50 to numeric: Cannot convert non-finite values (NA or inf) to integer\n",
      "Processing column: STOXX EUROPE 600\n",
      "Detailed error converting column STOXX EUROPE 600 to numeric: Cannot convert non-finite values (NA or inf) to integer\n",
      "Processing column: EURO STOXX 50 VOLATILITY\n",
      "Detailed error converting column EURO STOXX 50 VOLATILITY to numeric: Cannot convert non-finite values (NA or inf) to integer\n",
      "Processing column: EUROPEAN RENEWABLE ENERGY INDEX\n",
      "Detailed error converting column EUROPEAN RENEWABLE ENERGY INDEX to numeric: Cannot convert non-finite values (NA or inf) to integer\n",
      "Processing column: US IMPLIED YIELD VOLATILITY INDEX\n",
      "Detailed error converting column US IMPLIED YIELD VOLATILITY INDEX to numeric: Cannot convert non-finite values (NA or inf) to integer\n",
      "Processing column: GOLD IN EUR PX_LAST\n",
      "Detailed error converting column GOLD IN EUR PX_LAST to numeric: Cannot convert non-finite values (NA or inf) to integer\n",
      "Processing column: GOLD IN EUR PX_BID\n",
      "Detailed error converting column GOLD IN EUR PX_BID to numeric: Cannot convert non-finite values (NA or inf) to integer\n",
      "Processing column: GOLD IN EUR PX_ASK\n",
      "Detailed error converting column GOLD IN EUR PX_ASK to numeric: Cannot convert non-finite values (NA or inf) to integer\n",
      "Processing column: GOLD IN USD PX_LAST\n",
      "Detailed error converting column GOLD IN USD PX_LAST to numeric: Cannot convert non-finite values (NA or inf) to integer\n",
      "Processing column: GOLD IN USD PX_BID\n",
      "Detailed error converting column GOLD IN USD PX_BID to numeric: Cannot convert non-finite values (NA or inf) to integer\n",
      "Processing column: GOLD IN USD PX_ASK\n",
      "Detailed error converting column GOLD IN USD PX_ASK to numeric: Cannot convert non-finite values (NA or inf) to integer\n",
      "Processing column: BRENT CRUDE PX_LAST\n",
      "Detailed error converting column BRENT CRUDE PX_LAST to numeric: Cannot convert non-finite values (NA or inf) to integer\n",
      "Processing column: BRENT CRUDE PX_BID\n",
      "Detailed error converting column BRENT CRUDE PX_BID to numeric: Cannot convert non-finite values (NA or inf) to integer\n",
      "Processing column: BRENT CRUDE PX_ASK\n",
      "Detailed error converting column BRENT CRUDE PX_ASK to numeric: Cannot convert non-finite values (NA or inf) to integer\n",
      "Processing column: WTI PX_LAST\n",
      "Detailed error converting column WTI PX_LAST to numeric: Cannot convert non-finite values (NA or inf) to integer\n",
      "Processing column: WTI PX_BID\n",
      "Detailed error converting column WTI PX_BID to numeric: Cannot convert non-finite values (NA or inf) to integer\n",
      "Processing column: WTI PX_ASK\n",
      "Detailed error converting column WTI PX_ASK to numeric: Cannot convert non-finite values (NA or inf) to integer\n",
      "Processing column: NASDAQ 100\n",
      "Detailed error converting column NASDAQ 100 to numeric: Cannot convert non-finite values (NA or inf) to integer\n",
      "Processing column: MSCI ACWI AEROSPACE & DEFENSE INDEX\n",
      "Detailed error converting column MSCI ACWI AEROSPACE & DEFENSE INDEX to numeric: Cannot convert non-finite values (NA or inf) to integer\n",
      "Processing column: DOW JONES U.S. DEFENCE INDEX\n",
      "Detailed error converting column DOW JONES U.S. DEFENCE INDEX to numeric: Cannot convert non-finite values (NA or inf) to integer\n",
      "Processing column: STOXX EUROPE 600 ENERGY INDEX\n",
      "Detailed error converting column STOXX EUROPE 600 ENERGY INDEX to numeric: Cannot convert non-finite values (NA or inf) to integer\n",
      "Processing column: S&P 500 ESG INDEX (USD)\n",
      "Detailed error converting column S&P 500 ESG INDEX (USD) to numeric: Cannot convert non-finite values (NA or inf) to integer\n",
      "Processing column: RUSSEL 2000\n",
      "Detailed error converting column RUSSEL 2000 to numeric: Cannot convert non-finite values (NA or inf) to integer\n",
      "Processing column: EURO-BUND FUTURES PX_LAST\n",
      "Detailed error converting column EURO-BUND FUTURES PX_LAST to numeric: Cannot convert non-finite values (NA or inf) to integer\n",
      "Processing column: EURO-BUND FUTURES PX_BID\n",
      "Detailed error converting column EURO-BUND FUTURES PX_BID to numeric: Cannot convert non-finite values (NA or inf) to integer\n",
      "Processing column: EURO-BUND FUTURES PX_ASK\n",
      "Detailed error converting column EURO-BUND FUTURES PX_ASK to numeric: Cannot convert non-finite values (NA or inf) to integer\n",
      "Processing column: GERMANY 30-YEAR BOND YTM_BID\n",
      "Detailed error converting column GERMANY 30-YEAR BOND YTM_BID to numeric: Cannot convert non-finite values (NA or inf) to integer\n",
      "Processing column: GERMANY 30-YEAR BOND YTM_ASK\n",
      "Detailed error converting column GERMANY 30-YEAR BOND YTM_ASK to numeric: Cannot convert non-finite values (NA or inf) to integer\n",
      "Processing column: GERMANY 15-YEAR BOND YTM_BID\n",
      "Detailed error converting column GERMANY 15-YEAR BOND YTM_BID to numeric: Cannot convert non-finite values (NA or inf) to integer\n",
      "Processing column: GERMANY 15-YEAR BOND YTM_ASK\n",
      "Detailed error converting column GERMANY 15-YEAR BOND YTM_ASK to numeric: Cannot convert non-finite values (NA or inf) to integer\n",
      "Processing column: GERMANY 10-YEAR BOND YTM_BID\n",
      "Detailed error converting column GERMANY 10-YEAR BOND YTM_BID to numeric: Cannot convert non-finite values (NA or inf) to integer\n",
      "Processing column: GERMANY 10-YEAR BOND YTM_ASK\n",
      "Detailed error converting column GERMANY 10-YEAR BOND YTM_ASK to numeric: Cannot convert non-finite values (NA or inf) to integer\n",
      "Processing column: GERMANY 7-YEAR BOND YTM_BID\n",
      "Detailed error converting column GERMANY 7-YEAR BOND YTM_BID to numeric: Cannot convert non-finite values (NA or inf) to integer\n",
      "Processing column: GERMANY 7-YEAR BOND YTM_ASK\n",
      "Detailed error converting column GERMANY 7-YEAR BOND YTM_ASK to numeric: Cannot convert non-finite values (NA or inf) to integer\n",
      "Processing column: GERMANY 5-YEAR BOND YTM_BID\n",
      "Detailed error converting column GERMANY 5-YEAR BOND YTM_BID to numeric: Cannot convert non-finite values (NA or inf) to integer\n",
      "Processing column: GERMANY 5-YEAR BOND YTM_ASK\n",
      "Detailed error converting column GERMANY 5-YEAR BOND YTM_ASK to numeric: Cannot convert non-finite values (NA or inf) to integer\n",
      "Processing column: GERMANY 3-YEAR BOND YTM_BID\n",
      "Detailed error converting column GERMANY 3-YEAR BOND YTM_BID to numeric: Cannot convert non-finite values (NA or inf) to integer\n",
      "Processing column: GERMANY 3-YEAR BOND YTM_ASK\n",
      "Detailed error converting column GERMANY 3-YEAR BOND YTM_ASK to numeric: Cannot convert non-finite values (NA or inf) to integer\n",
      "Processing column: GERMANY 2-YEAR BOND YTM_BID\n",
      "Detailed error converting column GERMANY 2-YEAR BOND YTM_BID to numeric: Cannot convert non-finite values (NA or inf) to integer\n",
      "Processing column: GERMANY 2-YEAR BOND YTM_ASK\n",
      "Detailed error converting column GERMANY 2-YEAR BOND YTM_ASK to numeric: Cannot convert non-finite values (NA or inf) to integer\n",
      "Processing column: ECB MAIN REFINANCING OPERATIONS RATE\n",
      "Detailed error converting column ECB MAIN REFINANCING OPERATIONS RATE to numeric: Cannot convert non-finite values (NA or inf) to integer\n",
      "Processing column: US EFFECTIVE FEDERAL FUNDS RATE\n",
      "Detailed error converting column US EFFECTIVE FEDERAL FUNDS RATE to numeric: Cannot convert non-finite values (NA or inf) to integer\n",
      "Processing column: ECB DEPOSIT FACILITY RATE\n",
      "Detailed error converting column ECB DEPOSIT FACILITY RATE to numeric: Cannot convert non-finite values (NA or inf) to integer\n",
      "Processing column: US 30-YEAR BOND YTM_BID\n",
      "Detailed error converting column US 30-YEAR BOND YTM_BID to numeric: Cannot convert non-finite values (NA or inf) to integer\n",
      "Processing column: US 30-YEAR BOND YTM_ASK\n",
      "Detailed error converting column US 30-YEAR BOND YTM_ASK to numeric: Cannot convert non-finite values (NA or inf) to integer\n",
      "Processing column: US 20-YEAR BOND YTM_BID\n",
      "Detailed error converting column US 20-YEAR BOND YTM_BID to numeric: Cannot convert non-finite values (NA or inf) to integer\n",
      "Processing column: US 20-YEAR BOND YTM_ASK\n",
      "Detailed error converting column US 20-YEAR BOND YTM_ASK to numeric: Cannot convert non-finite values (NA or inf) to integer\n",
      "Processing column: US 10-YEAR BOND YTM_BID\n",
      "Detailed error converting column US 10-YEAR BOND YTM_BID to numeric: Cannot convert non-finite values (NA or inf) to integer\n",
      "Processing column: US 10-YEAR BOND YTM_ASK\n",
      "Detailed error converting column US 10-YEAR BOND YTM_ASK to numeric: Cannot convert non-finite values (NA or inf) to integer\n",
      "Processing column: US 7-YEAR BOND YTM_BID\n",
      "Detailed error converting column US 7-YEAR BOND YTM_BID to numeric: Cannot convert non-finite values (NA or inf) to integer\n",
      "Processing column: US 7-YEAR BOND YTM_ASK\n",
      "Detailed error converting column US 7-YEAR BOND YTM_ASK to numeric: Cannot convert non-finite values (NA or inf) to integer\n",
      "Processing column: US 5-YEAR BOND YTM_BID\n",
      "Detailed error converting column US 5-YEAR BOND YTM_BID to numeric: Cannot convert non-finite values (NA or inf) to integer\n",
      "Processing column: US 5-YEAR BOND YTM_ASK\n",
      "Detailed error converting column US 5-YEAR BOND YTM_ASK to numeric: Cannot convert non-finite values (NA or inf) to integer\n",
      "Processing column: US 3-YEAR BOND YTM_BID\n",
      "Detailed error converting column US 3-YEAR BOND YTM_BID to numeric: Cannot convert non-finite values (NA or inf) to integer\n",
      "Processing column: US 3-YEAR BOND YTM_ASK\n",
      "Detailed error converting column US 3-YEAR BOND YTM_ASK to numeric: Cannot convert non-finite values (NA or inf) to integer\n",
      "Processing column: US 2-YEAR BOND YTM_BID\n",
      "Detailed error converting column US 2-YEAR BOND YTM_BID to numeric: Cannot convert non-finite values (NA or inf) to integer\n",
      "Processing column: US 2-YEAR BOND YTM_ASK\n",
      "Detailed error converting column US 2-YEAR BOND YTM_ASK to numeric: Cannot convert non-finite values (NA or inf) to integer\n",
      "Processing column: EUROZONE 30-YEAR BOND  YTM_BID\n",
      "Detailed error converting column EUROZONE 30-YEAR BOND  YTM_BID to numeric: Cannot convert non-finite values (NA or inf) to integer\n",
      "Processing column: EUROZONE 30-YEAR BOND YTM_ASK\n",
      "Detailed error converting column EUROZONE 30-YEAR BOND YTM_ASK to numeric: Cannot convert non-finite values (NA or inf) to integer\n",
      "Processing column: EUROZONE 15-YEAR BOND YTM_BID\n",
      "Detailed error converting column EUROZONE 15-YEAR BOND YTM_BID to numeric: Cannot convert non-finite values (NA or inf) to integer\n",
      "Processing column: EUROZONE 15-YEAR BOND YTM_ASK\n",
      "Detailed error converting column EUROZONE 15-YEAR BOND YTM_ASK to numeric: Cannot convert non-finite values (NA or inf) to integer\n",
      "Processing column: EUROZONE 10-YEAR BOND YTM_BID\n",
      "Detailed error converting column EUROZONE 10-YEAR BOND YTM_BID to numeric: Cannot convert non-finite values (NA or inf) to integer\n",
      "Processing column: EUROZONE 10-YEAR BOND YTM_ASK\n",
      "Detailed error converting column EUROZONE 10-YEAR BOND YTM_ASK to numeric: Cannot convert non-finite values (NA or inf) to integer\n",
      "Processing column: EUROZONE 7-YEARBOND YTM_BID\n",
      "Detailed error converting column EUROZONE 7-YEARBOND YTM_BID to numeric: Cannot convert non-finite values (NA or inf) to integer\n",
      "Processing column: EUROZONE 7-YEAR BOND YTM_ASK\n",
      "Detailed error converting column EUROZONE 7-YEAR BOND YTM_ASK to numeric: Cannot convert non-finite values (NA or inf) to integer\n",
      "Processing column: EUROZONE 5-YEAR BOND YTM_BID\n",
      "Detailed error converting column EUROZONE 5-YEAR BOND YTM_BID to numeric: Cannot convert non-finite values (NA or inf) to integer\n",
      "Processing column: EUROZONE 5-YEAR BOND YTM_ASK\n",
      "Detailed error converting column EUROZONE 5-YEAR BOND YTM_ASK to numeric: Cannot convert non-finite values (NA or inf) to integer\n",
      "Processing column: EUROZONE 3-YEAR BOND YTM_BID\n",
      "Detailed error converting column EUROZONE 3-YEAR BOND YTM_BID to numeric: Cannot convert non-finite values (NA or inf) to integer\n",
      "Processing column: EUROZONE 3-YEAR BOND YTM_ASK\n",
      "Detailed error converting column EUROZONE 3-YEAR BOND YTM_ASK to numeric: Cannot convert non-finite values (NA or inf) to integer\n",
      "Processing column: EUROZONE 2-YEAR BOND YTM_BID\n",
      "Detailed error converting column EUROZONE 2-YEAR BOND YTM_BID to numeric: Cannot convert non-finite values (NA or inf) to integer\n",
      "Processing column: EUROZONE 2-YEAR BOND YTM_ASK\n",
      "Detailed error converting column EUROZONE 2-YEAR BOND YTM_ASK to numeric: Cannot convert non-finite values (NA or inf) to integer\n",
      "Processing column: NASDAQ CLEAN EDGE GREEN ENERGY\n",
      "Detailed error converting column NASDAQ CLEAN EDGE GREEN ENERGY to numeric: Cannot convert non-finite values (NA or inf) to integer\n",
      "Processing column: MSCI EUROPE SELECT GREEN 50 5% DECREMENT NET INDEX (EUR)\n",
      "Detailed error converting column MSCI EUROPE SELECT GREEN 50 5% DECREMENT NET INDEX (EUR) to numeric: Cannot convert non-finite values (NA or inf) to integer\n",
      "Processing column: BLOOMBERG ECONOMIC SURPRISE INDEX - EUROZONE\n",
      "Detailed error converting column BLOOMBERG ECONOMIC SURPRISE INDEX - EUROZONE to numeric: Cannot convert non-finite values (NA or inf) to integer\n",
      "Processing column: Issue Date\n",
      "Column Issue Date converted to category\n",
      "Processing column: Issue Price\n",
      "Detailed error converting column Issue Price to numeric: Cannot convert non-finite values (NA or inf) to integer\n",
      "Column Issue Price converted to category\n",
      "Processing column: S&P Init Rtg\n",
      "Column S&P Init Rtg converted to category\n",
      "Processing column: S&P Outlook\n",
      "Column S&P Outlook converted to category\n",
      "Processing column: Fitch Outlook\n",
      "Column Fitch Outlook converted to category\n",
      "Processing column: Fitch Init Rtg\n",
      "Column Fitch Init Rtg converted to category\n",
      "Processing column: Moody's Rating Outlook\n",
      "Column Moody's Rating Outlook converted to category\n",
      "Processing column: Mdy Init Rtg\n",
      "Column Mdy Init Rtg converted to category\n",
      "Processing column: Collateral type\n",
      "Column Collateral type converted to category\n",
      "Processing column: Country\n",
      "Column Country converted to category\n",
      "Processing column: Put feature\n",
      "Column Put feature converted to category\n",
      "Processing column: Call Feature\n",
      "Column Call Feature converted to category\n",
      "Processing column: Currency\n",
      "Column Currency converted to category\n",
      "Processing column: Par Amount\n",
      "Detailed error converting column Par Amount to numeric: Cannot convert non-finite values (NA or inf) to integer\n",
      "Processing column: Amount issued\n",
      "Detailed error converting column Amount issued to numeric: Cannot convert non-finite values (NA or inf) to integer\n",
      "Column Amount issued converted to category\n",
      "Processing column: Issuer Name\n",
      "Column Issuer Name converted to category\n",
      "Processing column: BICS Level 2\n",
      "Column BICS Level 2 converted to category\n",
      "Processing column: Is Covered\n",
      "Column Is Covered converted to category\n",
      "Processing column: Ask Convexity\n",
      "Detailed error converting column Ask Convexity to numeric: Cannot convert non-finite values (NA or inf) to integer\n",
      "Processing column: Bid Convexity\n",
      "Detailed error converting column Bid Convexity to numeric: Cannot convert non-finite values (NA or inf) to integer\n",
      "Processing column: Mod Dur (Ask)\n",
      "Detailed error converting column Mod Dur (Ask) to numeric: Cannot convert non-finite values (NA or inf) to integer\n",
      "Processing column: Mod Dur (Bid)\n",
      "Detailed error converting column Mod Dur (Bid) to numeric: Cannot convert non-finite values (NA or inf) to integer\n",
      "Processing column: Cpn\n",
      "Detailed error converting column Cpn to numeric: Cannot convert non-finite values (NA or inf) to integer\n",
      "Processing column: Maturity\n",
      "Column Maturity converted to category\n",
      "Processing column: Series\n",
      "Detailed error converting column Series to numeric: Cannot convert non-finite values (NA or inf) to integer\n",
      "Column Series converted to category\n",
      "Processing column: BBG Composite\n",
      "Column BBG Composite converted to category\n",
      "Processing column: Mty Type\n",
      "Column Mty Type converted to category\n",
      "Processing column: Ask Price\n",
      "Detailed error converting column Ask Price to numeric: Cannot convert non-finite values (NA or inf) to integer\n",
      "Processing column: Bid Price\n",
      "Detailed error converting column Bid Price to numeric: Cannot convert non-finite values (NA or inf) to integer\n",
      "Processing column: Yield at Issue\n",
      "Detailed error converting column Yield at Issue to numeric: Cannot convert non-finite values (NA or inf) to integer\n",
      "Processing column: Moody Rtg\n",
      "Column Moody Rtg converted to category\n",
      "Processing column: S&P Rating\n",
      "Column S&P Rating converted to category\n",
      "Processing column: Fitch Rating\n",
      "Column Fitch Rating converted to category\n",
      "Processing column: Use of Proceeds\n",
      "Column Use of Proceeds converted to category\n"
     ]
    }
   ],
   "source": [
    "final_2 = convert_columns(final_2)"
   ]
  },
  {
   "cell_type": "code",
   "execution_count": 56,
   "metadata": {},
   "outputs": [],
   "source": [
    "final_2['Issue Price'] = final_2['Issue Price'].astype(float)\n",
    "final_2['Issue Date'] = pd.to_datetime(final_2['Issue Date'],format='%m/%d/%Y', errors='coerce')"
   ]
  },
  {
   "cell_type": "code",
   "execution_count": 57,
   "metadata": {},
   "outputs": [],
   "source": [
    "final_2 = final_2.copy()\n",
    "\n",
    "final_2['Issue Price'] = final_2['Issue Price'].astype(float)\n",
    "final_2['Issue Date'] = pd.to_datetime(final_2['Issue Date'], format='%m/%d/%Y', errors='coerce')"
   ]
  },
  {
   "cell_type": "code",
   "execution_count": 58,
   "metadata": {},
   "outputs": [],
   "source": [
    "#print(final_2.dtypes)"
   ]
  },
  {
   "cell_type": "code",
   "execution_count": 59,
   "metadata": {},
   "outputs": [],
   "source": [
    "final_2.reset_index(inplace=True)\n",
    "final_3 = final_2.dropna(subset=['Date','YLD_YTM_ASK'], how='all', inplace=False)\n"
   ]
  },
  {
   "cell_type": "code",
   "execution_count": 60,
   "metadata": {},
   "outputs": [],
   "source": [
    "#drop entries where all four variables are missing\n",
    "final_3 = final_3.dropna(subset=['YLD_YTM_ASK','YLD_YTM_BID','PX_ASK','PX_BID'], how='all')"
   ]
  },
  {
   "cell_type": "code",
   "execution_count": 61,
   "metadata": {},
   "outputs": [
    {
     "name": "stdout",
     "output_type": "stream",
     "text": [
      "0\n"
     ]
    }
   ],
   "source": [
    "# Count rows where exactly 4 specified columns have NaN values\n",
    "count = final_3[['YLD_YTM_ASK', 'YLD_YTM_BID', 'PX_ASK', 'PX_BID']].isna().sum(axis=1).eq(4).sum()\n",
    "print(count)"
   ]
  },
  {
   "cell_type": "code",
   "execution_count": 64,
   "metadata": {},
   "outputs": [],
   "source": [
    "#Extraction of date components\n",
    "final_3['year'] = final_3['Date'].dt.year\n",
    "final_3['month'] = final_3['Date'].dt.month\n",
    "final_3['quarter'] = final_3['Date'].dt.quarter\n"
   ]
  },
  {
   "cell_type": "code",
   "execution_count": 65,
   "metadata": {},
   "outputs": [],
   "source": [
    "# Accounting for cyclicality of months (allowing proximity of month 12 to month 1 to be observed)\n",
    "final_3['month_sin'] = np.sin(2 * np.pi * final_3['month'] / 12)\n",
    "final_3['month_cos'] = np.cos(2 * np.pi * final_3['month'] / 12)"
   ]
  },
  {
   "cell_type": "markdown",
   "metadata": {},
   "source": [
    "Encoding of string variables\n"
   ]
  },
  {
   "cell_type": "code",
   "execution_count": 66,
   "metadata": {},
   "outputs": [],
   "source": [
    "final_2.to_csv('/Users/marcohattingh/Desktop/Research Assignment/Data/final_2.csv', index=True)"
   ]
  },
  {
   "cell_type": "code",
   "execution_count": 67,
   "metadata": {},
   "outputs": [],
   "source": [
    "cpn_freq = pd.read_csv(\"/Users/marcohattingh/Desktop/Research Assignment/Data/ISIN_CPN_FREQ_BBG.csv\")"
   ]
  },
  {
   "cell_type": "code",
   "execution_count": 68,
   "metadata": {},
   "outputs": [],
   "source": [
    "#print(cpn_freq.dtypes)\n",
    "#print(final_2.dtypes)\n",
    "\n",
    "#cpn_freq['Ticker'] = cpn_freq[\"Ticker\"].astype('category')"
   ]
  },
  {
   "cell_type": "code",
   "execution_count": 69,
   "metadata": {},
   "outputs": [],
   "source": [
    "#print(final_2['Ticker'].cat.categories)\n",
    "#print(cpn_freq['Ticker'].cat.categories)"
   ]
  },
  {
   "cell_type": "code",
   "execution_count": 70,
   "metadata": {},
   "outputs": [],
   "source": [
    "final_merge = pd.merge(final_2, cpn_freq, on=[\"Ticker\"])"
   ]
  },
  {
   "cell_type": "code",
   "execution_count": 71,
   "metadata": {},
   "outputs": [],
   "source": [
    "# An easier way to drop the missing value rows\n",
    "final_merge = final_merge.dropna(subset=['Ticker', 'Date'])"
   ]
  },
  {
   "cell_type": "code",
   "execution_count": 72,
   "metadata": {},
   "outputs": [],
   "source": [
    "# Bit more complex way to drop the missing value rows\n",
    "to_drop = final_merge[(final_merge['Ticker']==' ') | (final_merge['Date']==' ')]\n",
    "final_merge =final_merge.drop(to_drop.index)"
   ]
  },
  {
   "cell_type": "code",
   "execution_count": 74,
   "metadata": {},
   "outputs": [],
   "source": [
    "#Convert dates into constant format\n",
    "final_merge['Maturity'] = pd.to_datetime(final_merge['Maturity'])\n",
    "#final_merge['Maturity'] = pd.to_datetime(final_merge['Maturity'], format = '%m/%d/%Y').dt.strftime('%d/%m/%Y')\n",
    "#final_merge['Maturity'] = pd.to_datetime(final_merge['Maturity'], format='%d/%m/%Y')\n",
    "final_merge['Date'] = final_merge['Date'].dt.to_timestamp('M')"
   ]
  },
  {
   "cell_type": "code",
   "execution_count": 75,
   "metadata": {},
   "outputs": [],
   "source": [
    "# Calculating mid price \n",
    "final_merge['Mid_PX'] = (((final_merge['PX_ASK']+final_merge['PX_BID'])/2))\n"
   ]
  },
  {
   "cell_type": "code",
   "execution_count": 76,
   "metadata": {},
   "outputs": [],
   "source": [
    "#back calculating the coupon dates\n",
    "coupon_1 = ['ISIN','Ticker','Maturity','Issue Date','Cpn','Date','CPN_FREQ','Par Amount']\n",
    "coupon_dates = final_merge[coupon_1]"
   ]
  },
  {
   "cell_type": "code",
   "execution_count": 77,
   "metadata": {},
   "outputs": [
    {
     "name": "stderr",
     "output_type": "stream",
     "text": [
      "/var/folders/9d/d6f8nwyx00gf8_tltm7pqtyc0000gn/T/ipykernel_6874/849711941.py:1: SettingWithCopyWarning: \n",
      "A value is trying to be set on a copy of a slice from a DataFrame.\n",
      "Try using .loc[row_indexer,col_indexer] = value instead\n",
      "\n",
      "See the caveats in the documentation: https://pandas.pydata.org/pandas-docs/stable/user_guide/indexing.html#returning-a-view-versus-a-copy\n",
      "  coupon_dates['Accrual period'] = (360/(coupon_dates['CPN_FREQ']))\n",
      "/var/folders/9d/d6f8nwyx00gf8_tltm7pqtyc0000gn/T/ipykernel_6874/849711941.py:2: SettingWithCopyWarning: \n",
      "A value is trying to be set on a copy of a slice from a DataFrame.\n",
      "Try using .loc[row_indexer,col_indexer] = value instead\n",
      "\n",
      "See the caveats in the documentation: https://pandas.pydata.org/pandas-docs/stable/user_guide/indexing.html#returning-a-view-versus-a-copy\n",
      "  coupon_dates['period_coupon'] =  ((coupon_dates['Cpn'])/coupon_dates['CPN_FREQ'])\n",
      "/var/folders/9d/d6f8nwyx00gf8_tltm7pqtyc0000gn/T/ipykernel_6874/849711941.py:3: SettingWithCopyWarning: \n",
      "A value is trying to be set on a copy of a slice from a DataFrame.\n",
      "Try using .loc[row_indexer,col_indexer] = value instead\n",
      "\n",
      "See the caveats in the documentation: https://pandas.pydata.org/pandas-docs/stable/user_guide/indexing.html#returning-a-view-versus-a-copy\n",
      "  coupon_dates['period_months'] = 12/ coupon_dates['CPN_FREQ']\n"
     ]
    }
   ],
   "source": [
    "coupon_dates['Accrual period'] = (360/(coupon_dates['CPN_FREQ']))\n",
    "coupon_dates['period_coupon'] =  ((coupon_dates['Cpn'])/coupon_dates['CPN_FREQ'])\n",
    "coupon_dates['period_months'] = 12/ coupon_dates['CPN_FREQ']\n",
    "#((coupon_dates['Cpn'])/(coupon_dates['CPN_FREQ']))*100"
   ]
  },
  {
   "cell_type": "code",
   "execution_count": 78,
   "metadata": {},
   "outputs": [
    {
     "name": "stderr",
     "output_type": "stream",
     "text": [
      "/var/folders/9d/d6f8nwyx00gf8_tltm7pqtyc0000gn/T/ipykernel_6874/2168478596.py:12: DeprecationWarning: is_period_dtype is deprecated and will be removed in a future version. Use `isinstance(dtype, pd.PeriodDtype)` instead\n",
      "  if is_period_dtype(df['Date']):\n"
     ]
    }
   ],
   "source": [
    "df = coupon_dates.copy()\n",
    "\n",
    "from pandas.api.types import is_period_dtype, is_datetime64_any_dtype\n",
    "\n",
    "# 1) Core dtypes\n",
    "df['Maturity']   = pd.to_datetime(df['Maturity'], errors='coerce')\n",
    "df['Issue Date'] = pd.to_datetime(df['Issue Date'], errors='coerce')\n",
    "df['CPN_FREQ']   = pd.to_numeric(df['CPN_FREQ'], errors='coerce').astype('Int64')\n",
    "df['Cpn']        = pd.to_numeric(df['Cpn'], errors='coerce')\n",
    "\n",
    "# 2) Normalize Date to month-end Timestamp without ever passing Period to to_datetime\n",
    "if is_period_dtype(df['Date']):\n",
    "    # Already Period[M] -> convert to month-end timestamps\n",
    "    df['Date'] = df['Date'].dt.to_timestamp('M')\n",
    "elif is_datetime64_any_dtype(df['Date']):\n",
    "    # Already datetime -> push to month-end\n",
    "    df['Date'] = df['Date'] + pd.offsets.MonthEnd(0)\n",
    "else:\n",
    "    # Likely strings like '2021-10' -> parse, then month-end\n",
    "    # (If your strings are strictly YYYY-MM, the format speeds parsing)\n",
    "    df['Date'] = pd.to_datetime(df['Date'], errors='coerce', format='%Y-%m', exact=False)\n",
    "    df['Date'] = df['Date'] + pd.offsets.MonthEnd(0)"
   ]
  },
  {
   "cell_type": "code",
   "execution_count": 79,
   "metadata": {},
   "outputs": [],
   "source": [
    "# building last/next coupon dates per row\n",
    "def last_next_coupon_from_maturity(maturity, freq, valuation_date):\n",
    "    \"\"\"\n",
    "    Build schedule backward from maturity stepping 12/f months.\n",
    "    Return (last_coupon_date, next_coupon_date) around valuation_date.\n",
    "    \"\"\"\n",
    "    if pd.isna(freq) or freq not in (1, 2, 4):\n",
    "        return (pd.NaT, pd.NaT)\n",
    "\n",
    "    period_months = int(12 // int(freq))\n",
    "    schedule = []\n",
    "    d = maturity\n",
    "    cutoff = valuation_date - pd.DateOffset(years=30)  # far enough back\n",
    "\n",
    "    while d > cutoff:\n",
    "        schedule.append(d)\n",
    "        d = d - pd.DateOffset(months=period_months)\n",
    "\n",
    "    schedule.sort()\n",
    "    if not schedule:\n",
    "        return (pd.NaT, pd.NaT)\n",
    "\n",
    "    # last <= valuation_date\n",
    "    last_cpn = None\n",
    "    for dt in schedule:\n",
    "        if dt <= valuation_date:\n",
    "            last_cpn = dt\n",
    "        else:\n",
    "            break\n",
    "\n",
    "    # next > valuation_date\n",
    "    next_cpn = next((dt for dt in schedule if dt > valuation_date), pd.NaT)\n",
    "    if last_cpn is None:\n",
    "        # valuation before first generated coupon -> treat first as next, no last\n",
    "        first = schedule[0]\n",
    "        return (pd.NaT, first)\n",
    "\n",
    "    return (last_cpn, next_cpn)"
   ]
  },
  {
   "cell_type": "code",
   "execution_count": 80,
   "metadata": {},
   "outputs": [],
   "source": [
    "#applying the previously generated code\n",
    "out = df.apply(\n",
    "    lambda r: pd.Series(\n",
    "        last_next_coupon_from_maturity(\n",
    "            r['Maturity'],\n",
    "            int(r['CPN_FREQ']) if pd.notna(r['CPN_FREQ']) else None,\n",
    "            r['Date']\n",
    "        ),\n",
    "        index=['LastCouponDate', 'NextCouponDate']\n",
    "    ),\n",
    "    axis=1\n",
    ")\n",
    "\n",
    "df = pd.concat([df, out], axis=1)"
   ]
  },
  {
   "cell_type": "code",
   "execution_count": 81,
   "metadata": {},
   "outputs": [],
   "source": [
    "#Accrual fraction\n",
    "days_since_last = (df['Date'] - df['LastCouponDate']).dt.days\n",
    "days_in_period  = (df['NextCouponDate'] - df['LastCouponDate']).dt.days\n",
    "df['accrual_frac_act'] = (days_since_last / days_in_period).clip(lower=0, upper=1)"
   ]
  },
  {
   "cell_type": "code",
   "execution_count": 82,
   "metadata": {},
   "outputs": [],
   "source": [
    "#Approximation of accrual fraction based on 30/360 timeframe\n",
    "df['accrual_frac_30360'] = (\n",
    "    (df['Date'] - df['LastCouponDate']).dt.days / (360 / df['CPN_FREQ'])\n",
    ").clip(lower=0)"
   ]
  },
  {
   "cell_type": "code",
   "execution_count": 83,
   "metadata": {},
   "outputs": [],
   "source": [
    "# What exactly is happening here??\n",
    "df['accrual_frac'] = df['accrual_frac_act']"
   ]
  },
  {
   "cell_type": "code",
   "execution_count": 84,
   "metadata": {},
   "outputs": [],
   "source": [
    "#calculating accrued interest\n",
    "df['AccruedInterest'] = df['period_coupon'] * df['accrual_frac']\n",
    "final_merge['period_coupon'] = df['period_coupon']\n",
    "final_merge['AccruedInterest'] = df['AccruedInterest']"
   ]
  },
  {
   "cell_type": "code",
   "execution_count": 85,
   "metadata": {},
   "outputs": [],
   "source": [
    "#merging newly calculated data\n",
    "# keys to join on (adjust to your ID columns)\n",
    "keys = ['ISIN', 'Ticker', 'Date']  # e.g., ['ISIN', 'Date']\n",
    "\n",
    "# pick only columns in df that are not already in final_merge (exclude keys)\n",
    "new_cols = [c for c in df.columns if c not in final_merge.columns and c not in keys]\n",
    "\n",
    "# if there are no new columns, nothing to do\n",
    "if new_cols:\n",
    "    df_sub = df[keys + new_cols].drop_duplicates(subset=keys)\n",
    "    final_merge = final_merge.merge(df_sub, on=keys, how='left')\n"
   ]
  },
  {
   "cell_type": "code",
   "execution_count": 86,
   "metadata": {},
   "outputs": [],
   "source": [
    "#### Debugging last coupon\n",
    "df['Maturity'] = pd.to_datetime(df['Maturity'], errors='coerce')\n",
    "# if your Date is 'YYYY-MM', convert to month-end Timestamps\n",
    "if not pd.api.types.is_datetime64_any_dtype(df['Date']):\n",
    "    df['Date'] = pd.to_datetime(df['Date'], errors='coerce', format='%Y-%m')\n",
    "df['Date'] = df['Date'] + pd.offsets.MonthEnd(0)\n",
    "\n",
    "df['CPN_FREQ'] = pd.to_numeric(df['CPN_FREQ'], errors='coerce').astype('Int64')\n",
    "df['Cpn']      = pd.to_numeric(df['Cpn'], errors='coerce')"
   ]
  },
  {
   "cell_type": "code",
   "execution_count": 87,
   "metadata": {},
   "outputs": [],
   "source": [
    "def build_schedule_from_maturity(maturity: pd.Timestamp, freq: int, back_years: int = 40) -> pd.DatetimeIndex:\n",
    "    if pd.isna(maturity) or pd.isna(freq) or freq not in (1, 2, 4):\n",
    "        return pd.DatetimeIndex([])\n",
    "    months = int(12 // int(freq))\n",
    "    dates = []\n",
    "    d = maturity\n",
    "    cutoff = maturity - pd.DateOffset(years=back_years)\n",
    "    while d >= cutoff:\n",
    "        dates.append(d)\n",
    "        d = d - pd.DateOffset(months=months)\n",
    "    return pd.DatetimeIndex(sorted(dates))"
   ]
  },
  {
   "cell_type": "code",
   "execution_count": 88,
   "metadata": {},
   "outputs": [],
   "source": [
    "schedules = {}\n",
    "for isin, g in df.groupby('ISIN', sort=False):\n",
    "    m = g['Maturity'].iloc[0]\n",
    "    f = g['CPN_FREQ'].iloc[0]\n",
    "    schedules[isin] = build_schedule_from_maturity(m, int(f) if pd.notna(f) else None)"
   ]
  },
  {
   "cell_type": "code",
   "execution_count": 89,
   "metadata": {},
   "outputs": [],
   "source": [
    "def last_next_from_schedule(schedule: pd.DatetimeIndex, valuation: pd.Timestamp):\n",
    "    if len(schedule) == 0 or pd.isna(valuation):\n",
    "        return pd.NaT, pd.NaT\n",
    "    # insertion point *after* valuation\n",
    "    i = schedule.searchsorted(valuation, side='right')\n",
    "    last_d = schedule[i-1] if i > 0 else pd.NaT\n",
    "    next_d = schedule[i]   if i < len(schedule) else pd.NaT\n",
    "    return last_d, next_d"
   ]
  },
  {
   "cell_type": "code",
   "execution_count": 90,
   "metadata": {},
   "outputs": [],
   "source": [
    "out = df.apply(\n",
    "    lambda r: pd.Series(\n",
    "        last_next_from_schedule(schedules.get(r['ISIN'], pd.DatetimeIndex([])), r['Date']),\n",
    "        index=['LastCouponDate','NextCouponDate']\n",
    "    ),\n",
    "    axis=1\n",
    ")\n",
    "df = pd.concat([df, out], axis=1)"
   ]
  },
  {
   "cell_type": "code",
   "execution_count": 91,
   "metadata": {},
   "outputs": [
    {
     "name": "stdout",
     "output_type": "stream",
     "text": [
      "         Date LastCouponDate LastCouponDate NextCouponDate NextCouponDate\n",
      "75 2021-10-31     2021-07-17     2021-07-17     2022-01-17     2022-01-17\n",
      "76 2021-11-30     2021-07-17     2021-07-17     2022-01-17     2022-01-17\n",
      "77 2021-12-31     2021-07-17     2021-07-17     2022-01-17     2022-01-17\n",
      "78 2022-01-31     2022-01-17     2022-01-17     2022-07-17     2022-07-17\n",
      "79 2022-02-28     2022-01-17     2022-01-17     2022-07-17     2022-07-17\n",
      "80 2022-03-31     2022-01-17     2022-01-17     2022-07-17     2022-07-17\n",
      "81 2022-04-30     2022-01-17     2022-01-17     2022-07-17     2022-07-17\n",
      "82 2022-05-31     2022-01-17     2022-01-17     2022-07-17     2022-07-17\n",
      "83 2022-06-30     2022-01-17     2022-01-17     2022-07-17     2022-07-17\n",
      "84 2022-07-31     2022-07-17     2022-07-17     2023-01-17     2023-01-17\n",
      "85 2022-08-31     2022-07-17     2022-07-17     2023-01-17     2023-01-17\n",
      "86 2022-09-30     2022-07-17     2022-07-17     2023-01-17     2023-01-17\n"
     ]
    }
   ],
   "source": [
    "# pick one ISIN and inspect\n",
    "check = df.loc[df['ISIN'].eq(df['ISIN'].iloc[100]), ['Date','LastCouponDate','NextCouponDate']].sort_values('Date').head(12)\n",
    "print(check)"
   ]
  },
  {
   "cell_type": "code",
   "execution_count": 92,
   "metadata": {},
   "outputs": [],
   "source": [
    "df = df.iloc[:,:-2]"
   ]
  },
  {
   "cell_type": "code",
   "execution_count": 94,
   "metadata": {},
   "outputs": [],
   "source": [
    "#calculating dirty_mid\n",
    "final_merge['dirty_mid'] = (final_merge['Mid_PX']) + (final_merge['AccruedInterest'])"
   ]
  },
  {
   "cell_type": "code",
   "execution_count": 95,
   "metadata": {},
   "outputs": [
    {
     "data": {
      "application/vnd.microsoft.datawrangler.viewer.v0+json": {
       "columns": [
        {
         "name": "index",
         "rawType": "object",
         "type": "string"
        },
        {
         "name": "0",
         "rawType": "object",
         "type": "unknown"
        }
       ],
       "ref": "b4d0e7b8-2be8-4ba2-8d0d-e553d135d51f",
       "rows": [
        [
         "ISIN",
         "object"
        ],
        [
         "Date",
         "datetime64[ns]"
        ],
        [
         "Maturity",
         "datetime64[ns]"
        ],
        [
         "CPN_FREQ",
         "int64"
        ]
       ],
       "shape": {
        "columns": 1,
        "rows": 4
       }
      },
      "text/plain": [
       "ISIN                object\n",
       "Date        datetime64[ns]\n",
       "Maturity    datetime64[ns]\n",
       "CPN_FREQ             int64\n",
       "dtype: object"
      ]
     },
     "execution_count": 95,
     "metadata": {},
     "output_type": "execute_result"
    }
   ],
   "source": [
    "#Debugging last coupon & next coupon attempt 2\n",
    "# 1) See what columns got suffixed\n",
    "[c for c in final_merge.columns if c.endswith(('_x','_y'))]\n",
    "\n",
    "# 2) Check dtypes before/after merge\n",
    "df[['ISIN','Date','Maturity','CPN_FREQ']].dtypes\n",
    "final_merge[['ISIN','Date','Maturity','CPN_FREQ']].dtypes\n",
    "\n",
    "# 3) Did you merge on the right keys?\n",
    "# If your last/next were computed per (ISIN, Date), you MUST merge on BOTH."
   ]
  },
  {
   "cell_type": "code",
   "execution_count": 96,
   "metadata": {},
   "outputs": [],
   "source": [
    "#Evaluation\n",
    "view1 = ['Date','Issue Date', 'Maturity', 'LastCouponDate','NextCouponDate', 'PX_ASK', 'PX_BID', 'Mid_PX','dirty_mid']\n",
    "view2 = final_merge[view1]"
   ]
  },
  {
   "cell_type": "code",
   "execution_count": 97,
   "metadata": {},
   "outputs": [],
   "source": [
    "final_merge.to_csv('/Users/marcohattingh/Desktop/Research Assignment/Data/final_merge.csv', index=False)"
   ]
  },
  {
   "cell_type": "code",
   "execution_count": 98,
   "metadata": {},
   "outputs": [
    {
     "name": "stderr",
     "output_type": "stream",
     "text": [
      "/var/folders/9d/d6f8nwyx00gf8_tltm7pqtyc0000gn/T/ipykernel_6874/1940906622.py:4: FutureWarning: The default fill_method='ffill' in SeriesGroupBy.pct_change is deprecated and will be removed in a future version. Either fill in any non-leading NA values prior to calling pct_change or specify 'fill_method=None' to not fill NA values.\n",
      "  final_merge['monthly_return_pct'] = final_merge.groupby('Ticker')['dirty_mid'].pct_change()\n"
     ]
    }
   ],
   "source": [
    "#Calculation of returns\n",
    "final_merge = final_merge.sort_values(['Ticker','Date'])\n",
    "final_merge['monthly_return_nom'] = final_merge.groupby('Ticker')['dirty_mid'].diff()\n",
    "final_merge['monthly_return_pct'] = final_merge.groupby('Ticker')['dirty_mid'].pct_change()"
   ]
  },
  {
   "cell_type": "code",
   "execution_count": 99,
   "metadata": {},
   "outputs": [
    {
     "name": "stdout",
     "output_type": "stream",
     "text": [
      "Duplicate (Ticker,Date) rows: 0\n"
     ]
    }
   ],
   "source": [
    "duplicates = final_merge.duplicated(subset=['Ticker','Date']).sum()\n",
    "print(\"Duplicate (Ticker,Date) rows:\", duplicates)"
   ]
  },
  {
   "cell_type": "code",
   "execution_count": 100,
   "metadata": {},
   "outputs": [],
   "source": [
    "#Activate if interested in quarterly return\n",
    "#df_encoded['quarterly_return'] = df_encoded.groupby('Ticker')['dirty_mid'].pct_change(periods=3)"
   ]
  },
  {
   "cell_type": "code",
   "execution_count": 101,
   "metadata": {},
   "outputs": [
    {
     "data": {
      "text/plain": [
       "\"coupon_dates['Maturity'] = pd.to_datetime(coupon_dates['Maturity'])\\ncoupon_dates['Date'] = pd.to_datetime(coupon_dates['Date']).dt.to_period('M').dt.to_timestamp('M')\\ncoupon_dates['CPN_FREQ'] = pd.to_numeric(coupon_dates['CPN_FREQ'], errors='coerce').astype('Int64')\""
      ]
     },
     "execution_count": 101,
     "metadata": {},
     "output_type": "execute_result"
    }
   ],
   "source": [
    "'''coupon_dates['Maturity'] = pd.to_datetime(coupon_dates['Maturity'])\n",
    "coupon_dates['Date'] = pd.to_datetime(coupon_dates['Date']).dt.to_period('M').dt.to_timestamp('M')\n",
    "coupon_dates['CPN_FREQ'] = pd.to_numeric(coupon_dates['CPN_FREQ'], errors='coerce').astype('Int64')'''"
   ]
  },
  {
   "cell_type": "code",
   "execution_count": 412,
   "metadata": {},
   "outputs": [],
   "source": [
    "#creating a copy of final merge\n",
    "maindf = final_merge.copy()\n"
   ]
  },
  {
   "cell_type": "code",
   "execution_count": 413,
   "metadata": {},
   "outputs": [],
   "source": [
    "#S&P Variable returns calculation\n",
    "sp = maindf[['Date','S&P500 PX_LAST']]\n",
    "sp = sp.drop_duplicates('Date')\n",
    "sp['S&P500 monthly_return'] = sp['S&P500 PX_LAST'].pct_change()\n",
    "sp['S&P500 ret_lag_1'] = sp['S&P500 monthly_return'].shift(1)\n",
    "sp['S&P500 ret_lag_2'] = sp['S&P500 monthly_return'].shift(2)\n",
    "\n",
    "maindf = pd.merge(sp[['Date','S&P500 monthly_return','S&P500 ret_lag_1','S&P500 ret_lag_2']], maindf, on='Date',how='left')"
   ]
  },
  {
   "cell_type": "code",
   "execution_count": 414,
   "metadata": {},
   "outputs": [],
   "source": [
    "#Stoxx 50\n",
    "sx50 = maindf[['Date','EURO STOXX 50']]\n",
    "sx50 = sx50.drop_duplicates('Date')\n",
    "sx50['STOXX 50 monthly_return'] = sx50['EURO STOXX 50'].pct_change()\n",
    "sx50['STOXX 50 ret_lag1'] = sx50['STOXX 50 monthly_return'].shift(1)\n",
    "sx50['STOXX 50 ret_lag2'] = sx50['STOXX 50 monthly_return'].shift(2)\n",
    "\n",
    "maindf = pd.merge(sx50[['Date','STOXX 50 monthly_return','STOXX 50 ret_lag1','STOXX 50 ret_lag2']], maindf, on='Date',how='left' )"
   ]
  },
  {
   "cell_type": "code",
   "execution_count": 415,
   "metadata": {},
   "outputs": [],
   "source": [
    "#STOXX 600\n",
    "sx600 = maindf[['Date','STOXX EUROPE 600']]\n",
    "sx600 = sx600.drop_duplicates('Date')\n",
    "sx600['STOXX 600 monthly_return'] = sx600['STOXX EUROPE 600'].pct_change()\n",
    "sx600['STOXX 600 ret_lag1'] = sx600['STOXX EUROPE 600'].shift(1)\n",
    "\n",
    "maindf = pd.merge(sx600[['Date','STOXX 600 monthly_return','STOXX 600 ret_lag1']],maindf, on='Date', how = 'left')"
   ]
  },
  {
   "cell_type": "code",
   "execution_count": 416,
   "metadata": {},
   "outputs": [],
   "source": [
    "#Gold \n",
    "gold = maindf[['Date','GOLD IN EUR PX_LAST']]\n",
    "gold = gold.drop_duplicates('Date')\n",
    "gold['gold monthly_return'] = gold['GOLD IN EUR PX_LAST'].pct_change()\n",
    "gold['gold ret_lag1'] = gold['gold monthly_return'].shift(1)\n",
    "\n",
    "maindf = pd.merge(gold[['Date','gold monthly_return','gold ret_lag1']], maindf, on='Date',how='left')\n"
   ]
  },
  {
   "cell_type": "code",
   "execution_count": 417,
   "metadata": {},
   "outputs": [],
   "source": [
    "#WTI\n",
    "wti = maindf[['Date','WTI PX_LAST']]\n",
    "wti = wti.drop_duplicates('Date')\n",
    "wti['WTI monthly_return'] = wti['WTI PX_LAST'].pct_change()\n",
    "wti['WTI ret_lag1'] = wti['WTI monthly_return'].shift(1)\n",
    "\n",
    "maindf = pd.merge(wti[['Date','WTI monthly_return', 'WTI ret_lag1']], maindf, on='Date', how='left')"
   ]
  },
  {
   "cell_type": "code",
   "execution_count": 418,
   "metadata": {},
   "outputs": [],
   "source": [
    "#BRENT\n",
    "brent = maindf[['Date','BRENT CRUDE PX_LAST']]\n",
    "brent = brent.drop_duplicates('Date')\n",
    "brent['BRENT monthly_return'] = brent['BRENT CRUDE PX_LAST'].pct_change()\n",
    "brent['BRENT ret_lag1'] = brent['BRENT monthly_return'].shift(1)\n",
    "\n",
    "maindf = pd.merge(brent[['Date','BRENT monthly_return', 'BRENT ret_lag1']], maindf, on='Date',how='left')\n",
    "\n"
   ]
  },
  {
   "cell_type": "code",
   "execution_count": 419,
   "metadata": {},
   "outputs": [],
   "source": [
    "#VIX \n",
    "vix = maindf[['Date','S&P500 VOLATILITY INDEX']]\n",
    "vix = vix.drop_duplicates('Date')\n",
    "vix['S&P500 VIX_lag_1_ret'] = vix['S&P500 VOLATILITY INDEX'].pct_change().shift(1)\n",
    "\n",
    "maindf = pd.merge(vix[['Date', 'S&P500 VIX_lag_1_ret']], maindf, on='Date',how='left')"
   ]
  },
  {
   "cell_type": "code",
   "execution_count": 420,
   "metadata": {},
   "outputs": [],
   "source": [
    "#STOXX VIX\n",
    "svix = maindf[['Date','EURO STOXX 50 VOLATILITY']]\n",
    "svix = svix.drop_duplicates('Date')\n",
    "svix['STOXX_VIX_RET_lag1'] = svix['EURO STOXX 50 VOLATILITY'].pct_change().shift(1)\n",
    "svix['STOXX50 VIX_lag_1'] = svix['EURO STOXX 50 VOLATILITY'].shift(1)\n",
    "\n",
    "maindf = pd.merge(svix[['Date', 'STOXX50 VIX_lag_1','STOXX_VIX_RET_lag1']], maindf, on='Date',how='left')"
   ]
  },
  {
   "cell_type": "code",
   "execution_count": 421,
   "metadata": {},
   "outputs": [],
   "source": [
    "#ECB Policy rates\n",
    "ecb_rate = maindf[['Date','ECB DEPOSIT FACILITY RATE']]\n",
    "ecb_rate = ecb_rate.drop_duplicates('Date')\n",
    "ecb_rate['ECB_rate_change_lag'] = ecb_rate['ECB DEPOSIT FACILITY RATE'].diff().shift(1)\n",
    "ecb_rate['ecb_rate_lag1'] = ecb_rate['ECB DEPOSIT FACILITY RATE'].shift(1)\n",
    "ecb_rate['ecb_rate_lag2'] = ecb_rate['ECB DEPOSIT FACILITY RATE'].shift(2)\n",
    "\n",
    "maindf = pd.merge(ecb_rate[['Date','ECB_rate_change_lag','ecb_rate_lag1','ecb_rate_lag2']], maindf, on='Date', how='left')\n"
   ]
  },
  {
   "cell_type": "code",
   "execution_count": 422,
   "metadata": {},
   "outputs": [],
   "source": [
    "#FED Policy rates\n",
    "fed_rate = maindf[['Date','US EFFECTIVE FEDERAL FUNDS RATE']]\n",
    "fed_rate = fed_rate.drop_duplicates('Date')\n",
    "fed_rate['FED_rate_change_lag'] = fed_rate['US EFFECTIVE FEDERAL FUNDS RATE'].diff().shift(1)\n",
    "fed_rate['FED_rate_lag1'] = fed_rate['US EFFECTIVE FEDERAL FUNDS RATE'].shift(1)\n",
    "fed_rate['FED_rate_lag2'] = fed_rate['US EFFECTIVE FEDERAL FUNDS RATE'].shift(2)\n",
    "\n",
    "maindf = pd.merge(fed_rate[['Date','FED_rate_change_lag','FED_rate_lag1','FED_rate_lag2']], maindf, on = 'Date', how = 'left')"
   ]
  },
  {
   "cell_type": "code",
   "execution_count": 423,
   "metadata": {},
   "outputs": [],
   "source": [
    "#Calculating mid duration, convexity and the spread\n",
    "maindf['duration_mid'] = (maindf['Mod Dur (Bid)'] + maindf['Mod Dur (Ask)']) / 2\n",
    "maindf['convexity_mid'] = (maindf['Bid Convexity'] + maindf['Ask Convexity']) / 2\n",
    "maindf['duration_mid_lag1'] = maindf['duration_mid'].shift(1)\n",
    "maindf['convexity_mid_lag1'] = maindf['convexity_mid'].shift(1)\n",
    "\n",
    "\n",
    "maindf['duration_spread'] = maindf['Mod Dur (Ask)'] - maindf['Mod Dur (Bid)']\n",
    "maindf['convexity_spread'] = maindf['Ask Convexity'] - maindf['Bid Convexity']"
   ]
  },
  {
   "cell_type": "code",
   "execution_count": 424,
   "metadata": {},
   "outputs": [],
   "source": [
    "#Years to maturity\n",
    "maindf['years_to_mty'] = maindf['Maturity'] - maindf['Date']\n",
    "maindf['years_to_mty'] = (maindf['years_to_mty'].dt.days.astype(float))"
   ]
  },
  {
   "cell_type": "code",
   "execution_count": 425,
   "metadata": {},
   "outputs": [
    {
     "name": "stdout",
     "output_type": "stream",
     "text": [
      "float64\n"
     ]
    }
   ],
   "source": [
    "#Log amount issued\n",
    "maindf['Amount issued'] = maindf['Amount issued'].astype(float)\n",
    "maindf['log_amount_issued'] = np.log(maindf['Amount issued'])\n",
    "print(maindf['log_amount_issued'].dtypes)"
   ]
  },
  {
   "cell_type": "code",
   "execution_count": 116,
   "metadata": {},
   "outputs": [],
   "source": [
    "#bid ask spread\n",
    "maindf['bid_ask_spread_bps'] =  1e4 * (maindf['PX_ASK'] - maindf['PX_BID'])/maindf['Mid_PX']"
   ]
  },
  {
   "cell_type": "code",
   "execution_count": 426,
   "metadata": {},
   "outputs": [],
   "source": [
    "#ESG INDEX S&P\n",
    "esg500 = maindf[['Date','S&P 500 ESG INDEX (USD)']]\n",
    "esg500 = esg500.drop_duplicates('Date')\n",
    "#esg500.plot(x='Date',y='S&P 500 ESG INDEX (USD)')\n",
    "esg500['ESG Index monthly_return'] = esg500['S&P 500 ESG INDEX (USD)'].pct_change()\n",
    "esg500['ESG500_lag1'] = esg500['ESG Index monthly_return'].shift(1)\n",
    "\n",
    "\n",
    "maindf = pd.merge(esg500[['Date','ESG Index monthly_return','ESG500_lag1']], maindf, on='Date', how='left')"
   ]
  },
  {
   "cell_type": "code",
   "execution_count": 427,
   "metadata": {},
   "outputs": [],
   "source": [
    "#STOXX EUROPE 600 ENERGY INDEX\n",
    "y ='STOXX EUROPE 600 ENERGY INDEX'\n",
    "x = maindf[['Date',y]]\n",
    "\n",
    "x = x.drop_duplicates('Date')\n",
    "#esg500.plot(x='Date',y='S&P 500 ESG INDEX (USD)')\n",
    "x['STOXX_600_energy_index_pct_change'] = x[y].pct_change()\n",
    "x['STOXX_600_energy_index ret_lag1'] = x['STOXX_600_energy_index_pct_change'].shift(1)\n",
    "\n",
    "\n",
    "maindf = pd.merge(x[['Date','STOXX_600_energy_index_pct_change','STOXX_600_energy_index ret_lag1']], maindf, on='Date', how='left')"
   ]
  },
  {
   "cell_type": "code",
   "execution_count": 428,
   "metadata": {},
   "outputs": [],
   "source": [
    "#NASDAQ CLEAN EDGE GREEN ENERGY\n",
    "y ='NASDAQ CLEAN EDGE GREEN ENERGY'\n",
    "x = maindf[['Date',y]]\n",
    "\n",
    "x = x.drop_duplicates('Date')\n",
    "#esg500.plot(x='Date',y='S&P 500 ESG INDEX (USD)')\n",
    "x['NASDAQ CLEAN EDGE GREEN ENERGY_pct_change'] = x[y].pct_change()\n",
    "x['NASDAQ CLEAN EDGE GREEN ENERGY ret_lag1'] = x['NASDAQ CLEAN EDGE GREEN ENERGY_pct_change'].shift(1)\n",
    "\n",
    "\n",
    "maindf = pd.merge(x[['Date','NASDAQ CLEAN EDGE GREEN ENERGY_pct_change','NASDAQ CLEAN EDGE GREEN ENERGY ret_lag1']], maindf, on='Date', how='left')"
   ]
  },
  {
   "cell_type": "code",
   "execution_count": 429,
   "metadata": {},
   "outputs": [],
   "source": [
    "#MSCI EUROPE SELECT GREEN 50 5% DECREMENT NET INDEX (EUR)\n",
    "y ='MSCI EUROPE SELECT GREEN 50 5% DECREMENT NET INDEX (EUR)'\n",
    "x = maindf[['Date',y]]\n",
    "\n",
    "x = x.drop_duplicates('Date')\n",
    "#esg500.plot(x='Date',y='S&P 500 ESG INDEX (USD)')\n",
    "x['MSCI Europe_select_green_pct_change'] = x[y].pct_change()\n",
    "x['MSCI Europe_select_green ret_lag1'] = x['MSCI Europe_select_green_pct_change'].shift(1)\n",
    "\n",
    "\n",
    "maindf = pd.merge(x[['Date','MSCI Europe_select_green_pct_change','MSCI Europe_select_green ret_lag1']], maindf, on='Date', how='left')"
   ]
  },
  {
   "cell_type": "code",
   "execution_count": 430,
   "metadata": {},
   "outputs": [],
   "source": [
    "#BLOOMBERG ECONOMIC SURPRISE INDEX - EUROZONE\n",
    "y ='BLOOMBERG ECONOMIC SURPRISE INDEX - EUROZONE'\n",
    "x = maindf[['Date',y]]\n",
    "\n",
    "x = x.drop_duplicates('Date')\n",
    "#esg500.plot(x='Date',y='S&P 500 ESG INDEX (USD)')\n",
    "x['Bloomberg_economic_surprise_index_difference'] = x[y].diff().abs()\n",
    "x['Bloomberg_economic_surprise_index_difference_ret_lag1'] = x['Bloomberg_economic_surprise_index_difference'].shift(1)\n",
    "\n",
    "\n",
    "maindf = pd.merge(x[['Date','Bloomberg_economic_surprise_index_difference','Bloomberg_economic_surprise_index_difference_ret_lag1']], maindf, on='Date', how='left')"
   ]
  },
  {
   "cell_type": "code",
   "execution_count": null,
   "metadata": {},
   "outputs": [],
   "source": [
    "#q1  = maindf.groupby('Date')['bid_ask_spread_bps'].transform(lambda s: s.quantile(0.01))\n",
    "#q99 = maindf.groupby('Date')['bid_ask_spread_bps'].transform(lambda s: s.quantile(0.99))\n",
    "#maindf['bid_ask_spread_bps'] = maindf['bid_ask_spread_bps'].clip(q1, q99)\n"
   ]
  },
  {
   "cell_type": "code",
   "execution_count": null,
   "metadata": {},
   "outputs": [],
   "source": [
    "# c) convert to cross-sectional rank/decile (removes bond-specific levels)\n",
    "#maindf['rel_spread_rank'] = maindf.groupby('Date')['bid_ask_spread_bps']\\\n",
    "                          #.rank(pct=True, method='average')  # 0..1 within each date\n",
    "\n",
    "# d) LAG it (avoid leakage)\n",
    "#maindf['rel_spread_rank_l1'] = maindf.groupby('Ticker')['rel_spread_rank'].shift(1)"
   ]
  },
  {
   "cell_type": "code",
   "execution_count": 178,
   "metadata": {},
   "outputs": [],
   "source": [
    "df_encoded.to_csv(\"/Users/marcohattingh/Desktop/Research Assignment/Data/df_encoded.csv\")"
   ]
  },
  {
   "cell_type": "markdown",
   "metadata": {},
   "source": [
    "Encoding categorical variables"
   ]
  },
  {
   "cell_type": "code",
   "execution_count": null,
   "metadata": {},
   "outputs": [],
   "source": [
    "cat_cols = ['Country','Currency','BICS Level 2']\n",
    "df_encoded = maindf.copy()"
   ]
  },
  {
   "cell_type": "markdown",
   "metadata": {},
   "source": [
    "Visual analysis of distributions and lag correlations"
   ]
  },
  {
   "cell_type": "markdown",
   "metadata": {},
   "source": [
    "Building the first model"
   ]
  },
  {
   "cell_type": "code",
   "execution_count": null,
   "metadata": {},
   "outputs": [
    {
     "name": "stdout",
     "output_type": "stream",
     "text": [
      "{'S&P500 VIX_lag_1_ret': True, 'STOXX_VIX_RET_lag1': True}\n"
     ]
    }
   ],
   "source": [
    "#month_const = {c: (df_encoded.groupby('Date')[c].nunique().max()==1) for c in X_train.columns}\n",
    "# True ⇒ time-factor (same across bonds in month). False ⇒ cross-sectional feature.\n",
    "#print(month_const)"
   ]
  },
  {
   "cell_type": "code",
   "execution_count": 487,
   "metadata": {},
   "outputs": [],
   "source": [
    "#Debugging NaNs\n",
    "maindf['row_in_bond'] = maindf.groupby('ISIN').cumcount()\n",
    "# 1 row must be dropped per bond because of pct_change(1)\n",
    "maindf = maindf[maindf['row_in_bond'] >= 1].copy()"
   ]
  },
  {
   "cell_type": "code",
   "execution_count": 467,
   "metadata": {},
   "outputs": [],
   "source": [
    "\n",
    "# Dummy columns start with these prefixes after get_dummies:D\n",
    "dummy_prefixes = ['Country_'] #, 'Currency_', 'BICS Level 2'\n",
    "\n",
    "# Extract all dummy columns automatically:\n",
    "dummy_cols = [c for c in df_encoded.columns if c.startswith(tuple(dummy_prefixes))]\n",
    "\n",
    "#numeric_cols = [,] # \n",
    "#feature_cols = numeric_cols \n",
    "#+  dummy_cols\n"
   ]
  },
  {
   "cell_type": "code",
   "execution_count": 463,
   "metadata": {},
   "outputs": [
    {
     "name": "stderr",
     "output_type": "stream",
     "text": [
      "/var/folders/9d/d6f8nwyx00gf8_tltm7pqtyc0000gn/T/ipykernel_6874/3329385055.py:6: FutureWarning: The default fill_method='ffill' in SeriesGroupBy.pct_change is deprecated and will be removed in a future version. Either fill in any non-leading NA values prior to calling pct_change or specify 'fill_method=None' to not fill NA values.\n",
      "  maindf['spread_bps_pct_change'] = maindf.groupby('Ticker')['bid_ask_spread_bps'].pct_change()\n"
     ]
    }
   ],
   "source": [
    "\n",
    "\n",
    "# Relative spread in basis points\n",
    "maindf['bid_ask_spread_bps'] = (maindf['PX_ASK'] - maindf['PX_BID']) / maindf['Mid_PX'] * 10_000\n",
    "\n",
    "# If you want change from previous period (per bond):\n",
    "maindf['spread_bps_lag1'] = maindf.groupby('Ticker')['bid_ask_spread_bps'].shift(1)\n",
    "maindf['spread_bps_pct_change'] = maindf.groupby('Ticker')['bid_ask_spread_bps'].pct_change()\n",
    "maindf['spread_bps_diff'] = maindf.groupby('Ticker')['bid_ask_spread_bps'].diff()"
   ]
  },
  {
   "cell_type": "code",
   "execution_count": 464,
   "metadata": {},
   "outputs": [
    {
     "data": {
      "text/plain": [
       "<Axes: >"
      ]
     },
     "execution_count": 464,
     "metadata": {},
     "output_type": "execute_result"
    },
    {
     "data": {
      "image/png": "[encoded data removed]",
      "text/plain": [
       "<Figure size 640x480 with 1 Axes>"
      ]
     },
     "metadata": {},
     "output_type": "display_data"
    }
   ],
   "source": [
    "maindf['bid_ask_spread_bps'] = maindf['bid_ask_spread_bps'].clip(lower=0)\n",
    "maindf['bid_ask_spread_bps'].plot()\n"
   ]
  },
  {
   "cell_type": "code",
   "execution_count": 465,
   "metadata": {},
   "outputs": [],
   "source": [
    "maindf['spread_bps_diff'] = maindf.groupby('Ticker')['bid_ask_spread_bps'].diff()"
   ]
  },
  {
   "cell_type": "code",
   "execution_count": 468,
   "metadata": {},
   "outputs": [],
   "source": [
    "df_encoded['spread_bps_pct_change'] = df_encoded['spread_bps_pct_change'].replace([np.inf, -np.inf], np.nan)"
   ]
  },
  {
   "cell_type": "code",
   "execution_count": 488,
   "metadata": {},
   "outputs": [],
   "source": [
    "#defining X and y\n",
    "y = df_encoded['bid_ask_spread_bps']\n",
    "X = df_encoded[set23]"
   ]
  },
  {
   "cell_type": "code",
   "execution_count": 489,
   "metadata": {},
   "outputs": [],
   "source": [
    "# encode categoricals beforehand -> df_encoded\n",
    "#y = df_encoded['monthly_return'] -- NOT NEEDED EARLIER CODE ALREADY DEFINES Y\n",
    "\n",
    "# choose/assemble your feature columns\n",
    "#X = df_encoded.drop(columns=['monthly_return','Date']) -- NOT NEEDED AS EARLIER CODE ALREADY DEFINES X\n",
    "\n",
    "# final NaN filter (y can’t have NaNs; X NaNs will be imputed in pipelines,\n",
    "# but it’s cleaner to drop rows with y NaN and keep X rows aligned)\n",
    "mask = y.notna()\n",
    "X, y = X[mask], y[mask]"
   ]
  },
  {
   "cell_type": "code",
   "execution_count": 490,
   "metadata": {},
   "outputs": [],
   "source": [
    "from sklearn.metrics import root_mean_squared_error\n",
    "from sklearn.metrics import mean_squared_error\n",
    "\n",
    "\n",
    "def evaluate(y_true, y_pred, name=\"model\"):\n",
    "    r2   = r2_score(y_true, y_pred)\n",
    "    mae  = mean_absolute_error(y_true, y_pred)\n",
    "    mse = mean_squared_error(y_true, y_pred)\n",
    "    rmse = np.sqrt(mse)\n",
    "    print(f\"{name:20s} | R²={r2:6.3f}  MAE={mae:8.5f}  RMSE={rmse:8.5f}\")"
   ]
  },
  {
   "cell_type": "code",
   "execution_count": 491,
   "metadata": {},
   "outputs": [
    {
     "name": "stdout",
     "output_type": "stream",
     "text": [
      "Baseline: train-mean | R²=-0.021  MAE=50.16592  RMSE=112.37327\n"
     ]
    }
   ],
   "source": [
    "cutoff = df_encoded.loc[mask, 'Date'].quantile(0.8)\n",
    "train = df_encoded.loc[mask, 'Date'] <= cutoff\n",
    "test  = df_encoded.loc[mask, 'Date'] >  cutoff\n",
    "\n",
    "X_train, y_train = X[train], y[train]\n",
    "X_test,  y_test  = X[test],  y[test]\n",
    "\n",
    "# Baseline mean (no NaNs now)\n",
    "train_mean = np.nanmean(y_train)\n",
    "y_pred_mean = np.full(y_test.shape, train_mean)\n",
    "evaluate(y_test, y_pred_mean, name=\"Baseline: train-mean\")"
   ]
  },
  {
   "cell_type": "code",
   "execution_count": 492,
   "metadata": {},
   "outputs": [
    {
     "name": "stdout",
     "output_type": "stream",
     "text": [
      "Baseline: train-mean | R²=-0.021  MAE=50.16592  RMSE=112.37327\n"
     ]
    }
   ],
   "source": [
    "# Predict the train-set mean return for every test point (very hard baseline to beat in bonds)\n",
    "y_pred_mean = np.full_like(y_test, fill_value=np.nan, dtype=float)\n",
    "y_pred_mean[:] = np.nanmean(y_train)\n",
    "evaluate(y_test, y_pred_mean, name=\"Baseline: train-mean\")"
   ]
  },
  {
   "cell_type": "code",
   "execution_count": 495,
   "metadata": {},
   "outputs": [
    {
     "name": "stdout",
     "output_type": "stream",
     "text": [
      "GBM Train            | R²= 0.869  MAE=26.12282  RMSE=56.61853\n"
     ]
    }
   ],
   "source": [
    "y_pred_train = gbm_pipe.predict(X_train)\n",
    "evaluate(y_train, y_pred_train, name=\"GBM Train\")"
   ]
  },
  {
   "cell_type": "code",
   "execution_count": 514,
   "metadata": {},
   "outputs": [
    {
     "name": "stdout",
     "output_type": "stream",
     "text": [
      "[('PX_ASK', 'PX_BID'), ('PX_ASK', 'dirty_mid'), ('PX_BID', 'dirty_mid'), ('YLD_YTM_ASK', 'YLD_YTM_BID'), ('Ask Convexity', 'Bid Convexity'), ('Ask Convexity', 'Mod Dur (Ask)'), ('Ask Convexity', 'Mod Dur (Bid)'), ('Ask Convexity', 'Maturity'), ('Ask Convexity', 'duration_mid'), ('Ask Convexity', 'convexity_mid'), ('Bid Convexity', 'Mod Dur (Ask)'), ('Bid Convexity', 'Mod Dur (Bid)'), ('Bid Convexity', 'Maturity'), ('Bid Convexity', 'duration_mid'), ('Bid Convexity', 'convexity_mid'), ('Mod Dur (Ask)', 'Mod Dur (Bid)'), ('Mod Dur (Ask)', 'duration_mid'), ('Mod Dur (Ask)', 'convexity_mid'), ('Mod Dur (Ask)', 'years_to_mty'), ('Mod Dur (Bid)', 'duration_mid'), ('Mod Dur (Bid)', 'convexity_mid'), ('Mod Dur (Bid)', 'years_to_mty'), ('Cpn', 'Yield at Issue'), ('Maturity', 'Mod Dur (Ask)'), ('Maturity', 'Mod Dur (Bid)'), ('Maturity', 'duration_mid'), ('Maturity', 'convexity_mid'), ('Maturity', 'years_to_mty'), ('Ask Price', 'Bid Price'), ('CPN_FREQ', 'LastCouponDate'), ('CPN_FREQ', 'NextCouponDate'), ('Mid_PX', 'PX_ASK'), ('Mid_PX', 'PX_BID'), ('Mid_PX', 'dirty_mid'), ('Accrual period', 'period_months'), ('LastCouponDate', 'NextCouponDate'), ('accrual_frac_30360', 'accrual_frac_act'), ('accrual_frac', 'accrual_frac_act'), ('accrual_frac', 'accrual_frac_30360'), ('monthly_return_nom', 'monthly_return_pct'), ('duration_mid', 'years_to_mty'), ('convexity_mid', 'duration_mid'), ('convexity_mid_lag1', 'duration_mid_lag1')]\n"
     ]
    }
   ],
   "source": [
    "corr = X_tr_all.corr()\n",
    "high_corr_pairs = [(c1, c2) for c1 in corr.columns for c2 in corr.columns \n",
    "                   if c1 < c2 and abs(corr.loc[c1,c2])>0.9]\n",
    "print(high_corr_pairs)"
   ]
  },
  {
   "cell_type": "code",
   "execution_count": 476,
   "metadata": {},
   "outputs": [
    {
     "name": "stdout",
     "output_type": "stream",
     "text": [
      "[]\n"
     ]
    }
   ],
   "source": [
    "bad_cols = [c for c in X_tr_all.columns if np.isinf(X_tr_all[c]).any()]\n",
    "print(bad_cols)"
   ]
  },
  {
   "cell_type": "code",
   "execution_count": 484,
   "metadata": {},
   "outputs": [
    {
     "name": "stdout",
     "output_type": "stream",
     "text": [
      "X_tr dtype: object\n",
      "Any pd.NA in X_tr? -> True\n"
     ]
    }
   ],
   "source": [
    "print(\"X_tr dtype:\", getattr(X_tr, \"dtype\", \"df\"))\n",
    "print(\"Any pd.NA in X_tr? ->\", any((pd.isna(pd.Series(X_tr.ravel(), dtype=\"object\")))))"
   ]
  },
  {
   "cell_type": "code",
   "execution_count": 501,
   "metadata": {},
   "outputs": [
    {
     "name": "stdout",
     "output_type": "stream",
     "text": [
      "Object/boolean columns: []\n",
      "Nullable integer/boolean columns: ['Issue Date', 'Maturity', 'CPN_FREQ', 'LastCouponDate', 'NextCouponDate', 'row_in_bond'] … total 6\n"
     ]
    }
   ],
   "source": [
    "bad = df.select_dtypes(include=[\"object\", \"boolean\"]).columns.tolist()\n",
    "nullable_int = [c for c in df.columns if str(df[c].dtype).lower() in (\"int64\", \"uint64\", \"int32\", \"uint32\", \"Int64\", \"UInt64\", \"boolean\")]\n",
    "print(\"Object/boolean columns:\", bad)\n",
    "print(\"Nullable integer/boolean columns:\", nullable_int[:20], \"… total\", len(nullable_int))"
   ]
  },
  {
   "cell_type": "code",
   "execution_count": 532,
   "metadata": {},
   "outputs": [
    {
     "name": "stdout",
     "output_type": "stream",
     "text": [
      "['Real Estate', 'Industrial Other', 'Forest & Paper Products Manufacturing', 'Power Generation', 'Waste & Environment Services & Equipment', 'Utilities', 'Government Development Banks', 'Government Regional', 'Containers & Packaging', 'Consumer Finance', 'Renewable Energy', 'Banks', 'Financial Services', 'Transportation & Logistics', 'Travel & Lodging', 'Commercial Finance', 'Wireline Telecommunications Services', 'Chemicals', 'Wireless Telecommunications Services', 'Diversified Banks', 'Consumer Products', 'Railroad', 'Life Insurance', 'Cable & Satellite', 'Funds & Trusts', 'Automobiles Manufacturing', 'Auto Parts Manufacturing', 'Refining & Marketing', 'Food & Beverage', 'Integrated Oils', 'Construction Materials Manufacturing', 'Property & Casualty Insurance', 'Homebuilders', 'Health Care Facilities & Services', 'Distributors - Consumer Discretionary', 'Home Improvement', 'Medical Equipment & Devices Manufacturing', 'Semiconductors', 'Electrical Equipment Manufacturing', 'Retail - Consumer Discretionary', 'Machinery Manufacturing', 'Manufactured Goods', 'Metals & Mining', 'Government Local', 'Supermarkets & Pharmacies', 'Communications Equipment', 'Hardware', 'Coal Operations', 'Supranationals', 'Entertainment Resources']\n"
     ]
    }
   ],
   "source": [
    "list1 = final_merge['BICS Level 2'].unique().to_list()\n",
    "    \n",
    "print(list1)"
   ]
  },
  {
   "cell_type": "code",
   "execution_count": 534,
   "metadata": {},
   "outputs": [
    {
     "data": {
      "text/plain": [
       "0.9344267872957249"
      ]
     },
     "execution_count": 534,
     "metadata": {},
     "output_type": "execute_result"
    }
   ],
   "source": [
    "maindf['S&P500 VOLATILITY INDEX'].corr(maindf['EURO STOXX 50 VOLATILITY'])\n"
   ]
  },
  {
   "cell_type": "code",
   "execution_count": 540,
   "metadata": {},
   "outputs": [
    {
     "name": "stdout",
     "output_type": "stream",
     "text": [
      "\n",
      "\n",
      "================================================================================\n",
      "RUNNING COMPLETE SECTOR ANALYSIS\n",
      "================================================================================\n",
      "\n",
      "[1/5] Analyzing feature importance...\n",
      "\n",
      "======================================================================\n",
      "TOP 30 FEATURES BY IMPORTANCE\n",
      "======================================================================\n",
      "   duration_spread........................................ 0.181205\n",
      "   is_investment_grade.................................... 0.139212\n",
      "   Amount issued.......................................... 0.064235\n",
      "   rating_numeric......................................... 0.062383\n",
      "   years_to_mty........................................... 0.054922\n",
      "   Accrual period......................................... 0.040975\n",
      "   Mod Dur (Bid).......................................... 0.040735\n",
      "   Cpn.................................................... 0.039897\n",
      "   period_months.......................................... 0.036884\n",
      "🏭 is_utilities........................................... 0.032991\n",
      "   dirty_mid.............................................. 0.031381\n",
      "   Par Amount............................................. 0.030345\n",
      "   CPN_FREQ............................................... 0.027994\n",
      "🏭 BICS Level 2_encoded................................... 0.027559\n",
      "🏭 sector_group_encoded................................... 0.021667\n",
      "   convexity_mid_lag1..................................... 0.014433\n",
      "   duration_mid_lag1...................................... 0.013897\n",
      "🏭 amount_x_stoxx_vol..................................... 0.013735\n",
      "🏭 rating_x_stoxx_vol..................................... 0.012969\n",
      "   years_since_issue...................................... 0.012508\n",
      "   yield_curve_slope...................................... 0.011516\n",
      "🏭 duration_x_stoxx_vol................................... 0.009799\n",
      "   days_to_next_coupon.................................... 0.009471\n",
      "   days_since_last_coupon................................. 0.008847\n",
      "🏭 extreme_stoxx_vol...................................... 0.007526\n",
      "🏭 is_bank................................................ 0.007500\n",
      "🏭 stoxx_vol_regime_encoded............................... 0.006640\n",
      "🏭 high_stoxx_vol......................................... 0.006413\n",
      "   is_seasoned............................................ 0.006287\n",
      "   issue_size_category_encoded............................ 0.005789\n",
      "\n",
      "======================================================================\n",
      "SECTOR FEATURE SUMMARY\n",
      "======================================================================\n",
      "Sector features in top 10:  1\n",
      "Sector features in top 25:  7\n",
      "\n",
      "Highest ranked sector feature:\n",
      "  • is_utilities\n",
      "  • Overall rank: #18\n",
      "  • Importance: 0.032991\n"
     ]
    },
    {
     "data": {
      "image/png": "[encoded data removed]",
      "text/plain": [
       "<Figure size 1200x1000 with 1 Axes>"
      ]
     },
     "metadata": {},
     "output_type": "display_data"
    },
    {
     "name": "stdout",
     "output_type": "stream",
     "text": [
      "\n",
      "[2/5] Analyzing sectors...\n",
      "\n",
      "======================================================================\n",
      "SECTOR-SPECIFIC LIQUIDITY ANALYSIS\n",
      "======================================================================\n",
      "\n",
      "1. TOP 15 BICS LEVEL 2 SECTORS BY AVERAGE SPREAD:\n",
      "----------------------------------------------------------------------\n",
      "                                          Avg_Spread  Med_Spread  Std_Spread  \\\n",
      "BICS Level 2                                                                   \n",
      "Property & Casualty Insurance                 125.46      129.72       25.23   \n",
      "Cable & Satellite                             114.68      113.62       24.26   \n",
      "Waste & Environment Services & Equipment      113.63      113.82       50.46   \n",
      "Integrated Oils                               113.13      112.11       35.10   \n",
      "Wireline Telecommunications Services          112.07      105.22       67.09   \n",
      "Industrial Other                              111.44       94.64       62.93   \n",
      "Refining & Marketing                           92.03       85.51       34.72   \n",
      "Real Estate                                    86.65       75.72       52.10   \n",
      "Auto Parts Manufacturing                       86.06       80.63       30.58   \n",
      "Transportation & Logistics                     85.78       60.16       65.96   \n",
      "Life Insurance                                 83.73       84.21       35.32   \n",
      "Metals & Mining                                80.69       37.88       61.61   \n",
      "Wireless Telecommunications Services           78.11       71.59       41.93   \n",
      "Food & Beverage                                74.98       67.79       36.98   \n",
      "Utilities                                      72.66       51.79       63.71   \n",
      "\n",
      "                                            MAE  Count  \n",
      "BICS Level 2                                            \n",
      "Property & Casualty Insurance             14.20     35  \n",
      "Cable & Satellite                          9.55     70  \n",
      "Waste & Environment Services & Equipment  14.31    153  \n",
      "Integrated Oils                           16.10     35  \n",
      "Wireline Telecommunications Services      14.95    195  \n",
      "Industrial Other                          12.59     97  \n",
      "Refining & Marketing                      11.72     68  \n",
      "Real Estate                               11.03   1851  \n",
      "Auto Parts Manufacturing                   8.29    160  \n",
      "Transportation & Logistics                11.10    325  \n",
      "Life Insurance                             9.58    162  \n",
      "Metals & Mining                           43.50     12  \n",
      "Wireless Telecommunications Services       9.78    199  \n",
      "Food & Beverage                            7.96    233  \n",
      "Utilities                                  8.64   3663  \n",
      "\n",
      "2. SECTOR GROUP COMPARISON:\n",
      "----------------------------------------------------------------------\n",
      "                             Avg_Spread  Med_Spread  Std_Spread    MAE  Count\n",
      "sector_group                                                                 \n",
      "Environmental Services           113.63      113.82       50.46  14.31    153\n",
      "Technology & Telecom              95.00       87.41       53.98  11.58    501\n",
      "Real Estate & Construction        86.26       75.18       52.08  11.04   1866\n",
      "Energy & Utilities                68.39       51.47       55.85   8.34   6012\n",
      "Transportation                    63.47       53.52       45.72   7.50   1148\n",
      "Industrial & Manufacturing        62.74       46.71       43.43   9.68    430\n",
      "Consumer & Retail                 61.80       53.37       32.92   7.55    447\n",
      "Other                             58.56       49.83       33.43   7.08    736\n",
      "Financial Services                47.25       38.02       32.57   7.31   4020\n",
      "Government & Supranationals       27.65       20.46       22.57   5.01   1681\n",
      "\n",
      "3. SECTOR PERFORMANCE ACROSS VOLATILITY REGIMES:\n",
      "----------------------------------------------------------------------\n",
      "stoxx_vol_regime             Extreme Stress  High Volatility  Low Volatility  \\\n",
      "sector_group                                                                   \n",
      "Environmental Services               141.12           134.04          100.59   \n",
      "Transportation                        81.19            75.92           54.21   \n",
      "Consumer & Retail                     74.11            73.96           57.59   \n",
      "Technology & Telecom                 101.95           101.06           87.76   \n",
      "Other                                 62.40            62.50           55.31   \n",
      "Government & Supranationals           32.66            30.89           25.09   \n",
      "Energy & Utilities                    68.83            71.23           68.44   \n",
      "Financial Services                    49.50            47.51           45.67   \n",
      "Real Estate & Construction            77.05            79.43           89.57   \n",
      "Industrial & Manufacturing            52.44            55.08           68.98   \n",
      "\n",
      "stoxx_vol_regime             Normal  Stress_Premium  \n",
      "sector_group                                         \n",
      "Environmental Services       107.15           33.45  \n",
      "Transportation                63.24           21.71  \n",
      "Consumer & Retail             59.01           16.37  \n",
      "Technology & Telecom          95.35           13.30  \n",
      "Other                         58.17            7.19  \n",
      "Government & Supranationals   27.22            5.80  \n",
      "Energy & Utilities            67.64            2.79  \n",
      "Financial Services            47.56            1.84  \n",
      "Real Estate & Construction    88.58          -10.14  \n",
      "Industrial & Manufacturing    62.93          -13.90  \n",
      "\n",
      "4. KEY SECTOR COMPARISONS:\n",
      "----------------------------------------------------------------------\n",
      "\n",
      "Renewable Energy:\n",
      "  • Average spread: 54.32 bps\n",
      "  • Median spread:  48.09 bps\n",
      "  • Observations:   351\n",
      "  • Low vol spread: 57.73 bps\n",
      "  • High vol spread: 51.60 bps\n",
      "  • Stress premium: -6.13 bps (-10.6%)\n",
      "\n",
      "Banks:\n",
      "  • Average spread: 43.63 bps\n",
      "  • Median spread:  38.18 bps\n",
      "  • Observations:   2590\n",
      "  • Low vol spread: 41.83 bps\n",
      "  • High vol spread: 43.93 bps\n",
      "  • Stress premium: 2.11 bps (5.0%)\n",
      "\n",
      "Utilities:\n",
      "  • Average spread: 72.66 bps\n",
      "  • Median spread:  51.79 bps\n",
      "  • Observations:   3663\n",
      "  • Low vol spread: 73.57 bps\n",
      "  • High vol spread: 73.62 bps\n",
      "  • Stress premium: 0.05 bps (0.1%)\n",
      "\n",
      "Power Generation:\n",
      "  • Average spread: 61.07 bps\n",
      "  • Median spread:  50.57 bps\n",
      "  • Observations:   1895\n",
      "  • Low vol spread: 60.12 bps\n",
      "  • High vol spread: 64.64 bps\n",
      "  • Stress premium: 4.52 bps (7.5%)\n",
      "\n",
      "Real Estate:\n",
      "  • Average spread: 86.65 bps\n",
      "  • Median spread:  75.72 bps\n",
      "  • Observations:   1851\n",
      "  • Low vol spread: 89.87 bps\n",
      "  • High vol spread: 78.49 bps\n",
      "  • Stress premium: -11.39 bps (-12.7%)\n",
      "\n",
      "Transportation & Logistics:\n",
      "  • Average spread: 85.78 bps\n",
      "  • Median spread:  60.16 bps\n",
      "  • Observations:   325\n",
      "  • Low vol spread: 72.85 bps\n",
      "  • High vol spread: 88.54 bps\n",
      "  • Stress premium: 15.69 bps (21.5%)\n",
      "\n",
      "[3/5] Running statistical tests...\n",
      "\n",
      "======================================================================\n",
      "STATISTICAL SIGNIFICANCE TESTS\n",
      "======================================================================\n",
      "\n",
      "1. SECTOR GROUP DIFFERENCES (ANOVA):\n",
      "----------------------------------------------------------------------\n",
      "F-statistic: 276.0315\n",
      "P-value: 0.0000000000\n",
      "Significant at 1% level: YES ✓✓✓\n",
      "Significant at 5% level: YES ✓\n",
      "\n",
      "2. RENEWABLE ENERGY vs OTHER SECTORS (T-test):\n",
      "----------------------------------------------------------------------\n",
      "Renewable Energy mean: 54.32 bps\n",
      "Other sectors mean:    61.59 bps\n",
      "Difference:            -7.26 bps\n",
      "T-statistic:           -2.7611\n",
      "P-value:               0.005766\n",
      "Significant at 5% level: YES ✓\n",
      "\n",
      "3. FINANCIAL SERVICES vs NON-FINANCIAL (T-test):\n",
      "----------------------------------------------------------------------\n",
      "Financial Services mean: 47.25 bps\n",
      "Non-Financial mean:      65.84 bps\n",
      "Difference:              -18.59 bps\n",
      "T-statistic:             -21.3887\n",
      "P-value:                 0.000000\n",
      "Significant at 5% level: YES ✓\n",
      "\n",
      "4. HIGH vs LOW STOXX VOLATILITY (T-test):\n",
      "----------------------------------------------------------------------\n",
      "High volatility mean: 64.21 bps\n",
      "Low volatility mean:  59.55 bps\n",
      "Stress premium:       4.67 bps\n",
      "T-statistic:          4.1191\n",
      "P-value:              0.000038\n",
      "Significant at 5% level: YES ✓\n",
      "\n",
      "[4/5] Creating visualizations...\n"
     ]
    },
    {
     "data": {
      "image/png": "[encoded data removed]",
      "text/plain": [
       "<Figure size 1800x1200 with 6 Axes>"
      ]
     },
     "metadata": {},
     "output_type": "display_data"
    },
    {
     "name": "stdout",
     "output_type": "stream",
     "text": [
      "\n",
      "✓ Visualization saved to: green_bond_sector_analysis.png\n",
      "\n",
      "[5/5] Generating research summary...\n",
      "\n",
      "================================================================================\n",
      "     GREEN BOND LIQUIDITY RESEARCH - SECTOR ANALYSIS SUMMARY\n",
      "================================================================================\n",
      "\n",
      "📊 MODEL PERFORMANCE:\n",
      "  • Baseline model R²:      0.6728\n",
      "  • Sector-enhanced R²:     0.8151\n",
      "  • Improvement:            +0.1423 (21.2% gain)\n",
      "\n",
      "🏭 KEY FINDING #1: SECTOR HETEROGENEITY\n",
      "--------------------------------------------------------------------------------\n",
      "\n",
      "  Most Liquid Green Bond Sectors (Tightest Spreads):\n",
      "    1. Government Regional............................... 22.29 bps (n=393)\n",
      "    2. Government Local.................................. 26.08 bps (n=35)\n",
      "    3. Supranationals.................................... 29.29 bps (n=34)\n",
      "\n",
      "  Least Liquid Green Bond Sectors (Widest Spreads):\n",
      "    1. Waste & Environment Services & Equipment.......... 113.63 bps (n=153)\n",
      "    2. Cable & Satellite................................. 114.68 bps (n=70)\n",
      "    3. Property & Casualty Insurance..................... 125.46 bps (n=35)\n",
      "\n",
      "  → Liquidity gap: 91.34 bps (410% difference)\n",
      "\n",
      "⚡ KEY FINDING #2: MARKET STRESS AMPLIFICATION\n",
      "--------------------------------------------------------------------------------\n",
      "  • Calm markets (Low STOXX vol):   59.55 bps\n",
      "  • Stressed markets (High vol):    64.21 bps\n",
      "  • Market stress premium:          +4.67 bps (7.8%)\n",
      "\n",
      "================================================================================\n",
      "\n",
      "================================================================================\n",
      "✅ COMPLETE ANALYSIS FINISHED!\n",
      "================================================================================\n",
      "\n",
      "You now have:\n",
      "  • Feature importance rankings\n",
      "  • Sector liquidity comparisons\n",
      "  • Statistical significance tests\n",
      "  • Publication-quality visualizations\n",
      "  • Research summary for your paper\n",
      "================================================================================\n"
     ]
    }
   ],
   "source": [
    "import numpy as np\n",
    "import pandas as pd\n",
    "import matplotlib.pyplot as plt\n",
    "import seaborn as sns\n",
    "from scipy import stats\n",
    "\n",
    "# ============================================\n",
    "# DEFINE ALL ANALYSIS FUNCTIONS\n",
    "# ============================================\n",
    "\n",
    "def analyze_sector_feature_importance(models, feature_names, top_n=30):\n",
    "    \"\"\"\n",
    "    Analyze feature importance with focus on sector variables\n",
    "    \"\"\"\n",
    "    importance_df = pd.DataFrame({\n",
    "        'feature': feature_names,\n",
    "        'importance': np.mean([m.feature_importances_ for m in models], axis=0)\n",
    "    })\n",
    "    \n",
    "    importance_df = importance_df.sort_values('importance', ascending=False)\n",
    "    \n",
    "    # Identify sector-related features\n",
    "    sector_features = [\n",
    "        'BICS Level 2_encoded', 'sector_group_encoded', \n",
    "        'is_renewable_energy', 'is_utilities', 'is_bank',\n",
    "        'high_stoxx_vol', 'low_stoxx_vol', 'extreme_stoxx_vol',\n",
    "        'stoxx_vol_regime_encoded', 'duration_x_stoxx_vol',\n",
    "        'amount_x_stoxx_vol', 'rating_x_stoxx_vol'\n",
    "    ]\n",
    "    \n",
    "    importance_df['is_sector_feature'] = importance_df['feature'].isin(sector_features)\n",
    "    \n",
    "    print(\"\\n\" + \"=\"*70)\n",
    "    print(f\"TOP {top_n} FEATURES BY IMPORTANCE\")\n",
    "    print(\"=\"*70)\n",
    "    \n",
    "    for idx, row in importance_df.head(top_n).iterrows():\n",
    "        marker = \"🏭\" if row['is_sector_feature'] else \"  \"\n",
    "        print(f\"{marker} {row['feature']:.<55} {row['importance']:.6f}\")\n",
    "    \n",
    "    # Summary\n",
    "    sector_in_top10 = importance_df.head(10)['is_sector_feature'].sum()\n",
    "    sector_in_top25 = importance_df.head(25)['is_sector_feature'].sum()\n",
    "    \n",
    "    print(\"\\n\" + \"=\"*70)\n",
    "    print(\"SECTOR FEATURE SUMMARY\")\n",
    "    print(\"=\"*70)\n",
    "    print(f\"Sector features in top 10:  {sector_in_top10}\")\n",
    "    print(f\"Sector features in top 25:  {sector_in_top25}\")\n",
    "    \n",
    "    if len(importance_df[importance_df['is_sector_feature']]) > 0:\n",
    "        top_sector_feature = importance_df[importance_df['is_sector_feature']].iloc[0]\n",
    "        rank = importance_df[importance_df['feature'] == top_sector_feature['feature']].index[0] + 1\n",
    "        print(f\"\\nHighest ranked sector feature:\")\n",
    "        print(f\"  • {top_sector_feature['feature']}\")\n",
    "        print(f\"  • Overall rank: #{rank}\")\n",
    "        print(f\"  • Importance: {top_sector_feature['importance']:.6f}\")\n",
    "    \n",
    "    # Visualization\n",
    "    fig, ax = plt.subplots(figsize=(12, 10))\n",
    "    top_features = importance_df.head(top_n)\n",
    "    colors = ['#27ae60' if x else '#3498db' for x in top_features['is_sector_feature']]\n",
    "    \n",
    "    ax.barh(range(len(top_features)), top_features['importance'], color=colors, alpha=0.7)\n",
    "    ax.set_yticks(range(len(top_features)))\n",
    "    ax.set_yticklabels(top_features['feature'])\n",
    "    ax.set_xlabel('Importance Score')\n",
    "    ax.set_title(f'Top {top_n} Features (Green = Sector/Market Features)', fontsize=14, pad=20)\n",
    "    ax.invert_yaxis()\n",
    "    ax.grid(axis='x', alpha=0.3)\n",
    "    plt.tight_layout()\n",
    "    plt.savefig('sector_feature_importance.png', dpi=300, bbox_inches='tight')\n",
    "    plt.show()\n",
    "    \n",
    "    return importance_df\n",
    "\n",
    "\n",
    "def analyze_by_sector(df, models, features, target='bid_ask_spread_bps'):\n",
    "    \"\"\"\n",
    "    Detailed sector-level analysis\n",
    "    \"\"\"\n",
    "    df_analysis = df.dropna(subset=features + [target]).copy()\n",
    "    X = df_analysis[features]\n",
    "    y = df_analysis[target]\n",
    "    \n",
    "    # Get predictions\n",
    "    df_analysis['predicted_spread'] = models[-1].predict(X)\n",
    "    df_analysis['prediction_error'] = df_analysis[target] - df_analysis['predicted_spread']\n",
    "    df_analysis['abs_error'] = np.abs(df_analysis['prediction_error'])\n",
    "    \n",
    "    print(\"\\n\" + \"=\"*70)\n",
    "    print(\"SECTOR-SPECIFIC LIQUIDITY ANALYSIS\")\n",
    "    print(\"=\"*70)\n",
    "    \n",
    "    # 1. By BICS Level 2 (Top sectors)\n",
    "    print(\"\\n1. TOP 15 BICS LEVEL 2 SECTORS BY AVERAGE SPREAD:\")\n",
    "    print(\"-\" * 70)\n",
    "    \n",
    "    sector_analysis = df_analysis.groupby('BICS Level 2').agg({\n",
    "        'bid_ask_spread_bps': ['mean', 'median', 'std'],\n",
    "        'abs_error': ['mean'],\n",
    "        'BICS Level 2': 'count'\n",
    "    }).round(2)\n",
    "    sector_analysis.columns = ['Avg_Spread', 'Med_Spread', 'Std_Spread', 'MAE', 'Count']\n",
    "    sector_analysis = sector_analysis[sector_analysis['Count'] >= 10]\n",
    "    sector_analysis = sector_analysis.sort_values('Avg_Spread', ascending=False)\n",
    "    \n",
    "    print(sector_analysis.head(15))\n",
    "    \n",
    "    # 2. By Sector Group\n",
    "    print(\"\\n2. SECTOR GROUP COMPARISON:\")\n",
    "    print(\"-\" * 70)\n",
    "    \n",
    "    group_analysis = df_analysis.groupby('sector_group').agg({\n",
    "        'bid_ask_spread_bps': ['mean', 'median', 'std'],\n",
    "        'abs_error': ['mean'],\n",
    "        'sector_group': 'count'\n",
    "    }).round(2)\n",
    "    group_analysis.columns = ['Avg_Spread', 'Med_Spread', 'Std_Spread', 'MAE', 'Count']\n",
    "    group_analysis = group_analysis.sort_values('Avg_Spread', ascending=False)\n",
    "    \n",
    "    print(group_analysis)\n",
    "    \n",
    "    # 3. Sector × Volatility Interaction\n",
    "    print(\"\\n3. SECTOR PERFORMANCE ACROSS VOLATILITY REGIMES:\")\n",
    "    print(\"-\" * 70)\n",
    "    \n",
    "    interaction = df_analysis.pivot_table(\n",
    "        values='bid_ask_spread_bps',\n",
    "        index='sector_group',\n",
    "        columns='stoxx_vol_regime',\n",
    "        aggfunc='mean'\n",
    "    ).round(2)\n",
    "    \n",
    "    # Calculate stress sensitivity\n",
    "    if 'High Volatility' in interaction.columns and 'Low Volatility' in interaction.columns:\n",
    "        interaction['Stress_Premium'] = interaction['High Volatility'] - interaction['Low Volatility']\n",
    "        interaction = interaction.sort_values('Stress_Premium', ascending=False)\n",
    "    \n",
    "    print(interaction)\n",
    "    \n",
    "    # 4. Key sector comparisons\n",
    "    print(\"\\n4. KEY SECTOR COMPARISONS:\")\n",
    "    print(\"-\" * 70)\n",
    "    \n",
    "    key_sectors = ['Renewable Energy', 'Banks', 'Utilities', 'Power Generation', \n",
    "                   'Real Estate', 'Transportation & Logistics']\n",
    "    \n",
    "    for sector in key_sectors:\n",
    "        if sector in df_analysis['BICS Level 2'].values:\n",
    "            sector_data = df_analysis[df_analysis['BICS Level 2'] == sector]\n",
    "            if len(sector_data) >= 5:\n",
    "                print(f\"\\n{sector}:\")\n",
    "                print(f\"  • Average spread: {sector_data['bid_ask_spread_bps'].mean():.2f} bps\")\n",
    "                print(f\"  • Median spread:  {sector_data['bid_ask_spread_bps'].median():.2f} bps\")\n",
    "                print(f\"  • Observations:   {len(sector_data)}\")\n",
    "                \n",
    "                # By volatility\n",
    "                low_vol = sector_data[sector_data['low_stoxx_vol'] == 1]['bid_ask_spread_bps'].mean()\n",
    "                high_vol = sector_data[sector_data['high_stoxx_vol'] == 1]['bid_ask_spread_bps'].mean()\n",
    "                if not np.isnan(low_vol) and not np.isnan(high_vol):\n",
    "                    print(f\"  • Low vol spread: {low_vol:.2f} bps\")\n",
    "                    print(f\"  • High vol spread: {high_vol:.2f} bps\")\n",
    "                    print(f\"  • Stress premium: {high_vol - low_vol:.2f} bps ({(high_vol/low_vol-1)*100:.1f}%)\")\n",
    "    \n",
    "    return df_analysis, sector_analysis, group_analysis, interaction\n",
    "\n",
    "\n",
    "def test_sector_differences(df):\n",
    "    \"\"\"\n",
    "    Test statistical significance of sector differences\n",
    "    \"\"\"\n",
    "    print(\"\\n\" + \"=\"*70)\n",
    "    print(\"STATISTICAL SIGNIFICANCE TESTS\")\n",
    "    print(\"=\"*70)\n",
    "    \n",
    "    # 1. ANOVA across sector groups\n",
    "    print(\"\\n1. SECTOR GROUP DIFFERENCES (ANOVA):\")\n",
    "    print(\"-\" * 70)\n",
    "    \n",
    "    groups = [group['bid_ask_spread_bps'].dropna().values \n",
    "              for name, group in df.groupby('sector_group') if len(group) >= 10]\n",
    "    \n",
    "    if len(groups) >= 2:\n",
    "        f_stat, p_value = stats.f_oneway(*groups)\n",
    "        print(f\"F-statistic: {f_stat:.4f}\")\n",
    "        print(f\"P-value: {p_value:.10f}\")\n",
    "        print(f\"Significant at 1% level: {'YES ✓✓✓' if p_value < 0.01 else 'NO'}\")\n",
    "        print(f\"Significant at 5% level: {'YES ✓' if p_value < 0.05 else 'NO'}\")\n",
    "    \n",
    "    # 2. Renewable Energy vs Others\n",
    "    print(\"\\n2. RENEWABLE ENERGY vs OTHER SECTORS (T-test):\")\n",
    "    print(\"-\" * 70)\n",
    "    \n",
    "    renewable = df[df['BICS Level 2'] == 'Renewable Energy']['bid_ask_spread_bps'].dropna()\n",
    "    others = df[df['BICS Level 2'] != 'Renewable Energy']['bid_ask_spread_bps'].dropna()\n",
    "    \n",
    "    if len(renewable) >= 10 and len(others) >= 10:\n",
    "        t_stat, p_value = stats.ttest_ind(renewable, others)\n",
    "        print(f\"Renewable Energy mean: {renewable.mean():.2f} bps\")\n",
    "        print(f\"Other sectors mean:    {others.mean():.2f} bps\")\n",
    "        print(f\"Difference:            {renewable.mean() - others.mean():.2f} bps\")\n",
    "        print(f\"T-statistic:           {t_stat:.4f}\")\n",
    "        print(f\"P-value:               {p_value:.6f}\")\n",
    "        print(f\"Significant at 5% level: {'YES ✓' if p_value < 0.05 else 'NO'}\")\n",
    "    \n",
    "    # 3. Banks vs Non-Financial\n",
    "    print(\"\\n3. FINANCIAL SERVICES vs NON-FINANCIAL (T-test):\")\n",
    "    print(\"-\" * 70)\n",
    "    \n",
    "    financial = df[df['sector_group'] == 'Financial Services']['bid_ask_spread_bps'].dropna()\n",
    "    non_financial = df[df['sector_group'] != 'Financial Services']['bid_ask_spread_bps'].dropna()\n",
    "    \n",
    "    if len(financial) >= 10 and len(non_financial) >= 10:\n",
    "        t_stat, p_value = stats.ttest_ind(financial, non_financial)\n",
    "        print(f\"Financial Services mean: {financial.mean():.2f} bps\")\n",
    "        print(f\"Non-Financial mean:      {non_financial.mean():.2f} bps\")\n",
    "        print(f\"Difference:              {financial.mean() - non_financial.mean():.2f} bps\")\n",
    "        print(f\"T-statistic:             {t_stat:.4f}\")\n",
    "        print(f\"P-value:                 {p_value:.6f}\")\n",
    "        print(f\"Significant at 5% level: {'YES ✓' if p_value < 0.05 else 'NO'}\")\n",
    "    \n",
    "    # 4. High vs Low Volatility\n",
    "    print(\"\\n4. HIGH vs LOW STOXX VOLATILITY (T-test):\")\n",
    "    print(\"-\" * 70)\n",
    "    \n",
    "    high_vol = df[df['high_stoxx_vol'] == 1]['bid_ask_spread_bps'].dropna()\n",
    "    low_vol = df[df['low_stoxx_vol'] == 1]['bid_ask_spread_bps'].dropna()\n",
    "    \n",
    "    if len(high_vol) >= 10 and len(low_vol) >= 10:\n",
    "        t_stat, p_value = stats.ttest_ind(high_vol, low_vol)\n",
    "        print(f\"High volatility mean: {high_vol.mean():.2f} bps\")\n",
    "        print(f\"Low volatility mean:  {low_vol.mean():.2f} bps\")\n",
    "        print(f\"Stress premium:       {high_vol.mean() - low_vol.mean():.2f} bps\")\n",
    "        print(f\"T-statistic:          {t_stat:.4f}\")\n",
    "        print(f\"P-value:              {p_value:.6f}\")\n",
    "        print(f\"Significant at 5% level: {'YES ✓' if p_value < 0.05 else 'NO'}\")\n",
    "\n",
    "\n",
    "def create_sector_visualizations(df, sector_stats, group_stats, save_path='green_bond_sector_analysis.png'):\n",
    "    \"\"\"\n",
    "    Create publication-quality sector visualizations\n",
    "    \"\"\"\n",
    "    fig = plt.figure(figsize=(18, 12))\n",
    "    gs = fig.add_gridspec(3, 3, hspace=0.3, wspace=0.3)\n",
    "    \n",
    "    # 1. Top sectors by spread\n",
    "    ax1 = fig.add_subplot(gs[0, :2])\n",
    "    top_sectors = sector_stats.sort_values('Avg_Spread', ascending=True).tail(10)\n",
    "    ax1.barh(range(len(top_sectors)), top_sectors['Avg_Spread'], \n",
    "             xerr=top_sectors['Std_Spread'], alpha=0.7, color='#e67e22')\n",
    "    ax1.set_yticks(range(len(top_sectors)))\n",
    "    ax1.set_yticklabels(top_sectors.index)\n",
    "    ax1.set_xlabel('Average Bid-Ask Spread (bps)', fontsize=11)\n",
    "    ax1.set_title('Top 10 Least Liquid Sectors (Widest Spreads)', fontsize=12, fontweight='bold')\n",
    "    ax1.grid(axis='x', alpha=0.3)\n",
    "    \n",
    "    # 2. Bottom sectors by spread\n",
    "    ax2 = fig.add_subplot(gs[0, 2])\n",
    "    bottom_sectors = sector_stats.sort_values('Avg_Spread', ascending=True).head(10)\n",
    "    ax2.barh(range(len(bottom_sectors)), bottom_sectors['Avg_Spread'], \n",
    "             alpha=0.7, color='#27ae60')\n",
    "    ax2.set_yticks(range(len(bottom_sectors)))\n",
    "    ax2.set_yticklabels(bottom_sectors.index, fontsize=9)\n",
    "    ax2.set_xlabel('Spread (bps)', fontsize=10)\n",
    "    ax2.set_title('Most Liquid\\n(Tightest Spreads)', fontsize=11, fontweight='bold')\n",
    "    ax2.grid(axis='x', alpha=0.3)\n",
    "    \n",
    "    # 3. Sector group comparison\n",
    "    ax3 = fig.add_subplot(gs[1, 0])\n",
    "    group_sorted = group_stats.sort_values('Avg_Spread', ascending=False)\n",
    "    colors_group = plt.cm.viridis(np.linspace(0.2, 0.8, len(group_sorted)))\n",
    "    ax3.bar(range(len(group_sorted)), group_sorted['Avg_Spread'], \n",
    "            color=colors_group, alpha=0.8)\n",
    "    ax3.set_xticks(range(len(group_sorted)))\n",
    "    ax3.set_xticklabels(group_sorted.index, rotation=45, ha='right', fontsize=9)\n",
    "    ax3.set_ylabel('Average Spread (bps)', fontsize=10)\n",
    "    ax3.set_title('Sector Group Liquidity', fontsize=11, fontweight='bold')\n",
    "    ax3.grid(axis='y', alpha=0.3)\n",
    "    \n",
    "    # 4. Volatility regime effect\n",
    "    ax4 = fig.add_subplot(gs[1, 1])\n",
    "    vol_order = ['Low Volatility', 'Normal', 'High Volatility', 'Extreme Stress']\n",
    "    vol_data = df.groupby('stoxx_vol_regime')['bid_ask_spread_bps'].mean().reindex(vol_order)\n",
    "    colors_vol = ['#2ecc71', '#3498db', '#e67e22', '#e74c3c']\n",
    "    bars = ax4.bar(range(len(vol_data)), vol_data.values, color=colors_vol, alpha=0.7)\n",
    "    ax4.set_xticks(range(len(vol_data)))\n",
    "    ax4.set_xticklabels(vol_data.index, rotation=45, ha='right', fontsize=9)\n",
    "    ax4.set_ylabel('Average Spread (bps)', fontsize=10)\n",
    "    ax4.set_title('Market Volatility Impact', fontsize=11, fontweight='bold')\n",
    "    ax4.grid(axis='y', alpha=0.3)\n",
    "    \n",
    "    for bar in bars:\n",
    "        height = bar.get_height()\n",
    "        ax4.text(bar.get_x() + bar.get_width()/2., height,\n",
    "                f'{height:.1f}', ha='center', va='bottom', fontsize=9)\n",
    "    \n",
    "    # 5. Actual vs Predicted\n",
    "    ax5 = fig.add_subplot(gs[1, 2])\n",
    "    sample = df.sample(min(2000, len(df)))\n",
    "    ax5.scatter(sample['bid_ask_spread_bps'], sample['predicted_spread'], \n",
    "                alpha=0.2, s=10, c='#3498db')\n",
    "    lims = [min(sample['bid_ask_spread_bps'].min(), sample['predicted_spread'].min()),\n",
    "            max(sample['bid_ask_spread_bps'].max(), sample['predicted_spread'].max())]\n",
    "    ax5.plot(lims, lims, 'r--', lw=2, label='Perfect Prediction', alpha=0.7)\n",
    "    ax5.set_xlabel('Actual Spread (bps)', fontsize=10)\n",
    "    ax5.set_ylabel('Predicted Spread (bps)', fontsize=10)\n",
    "    ax5.set_title('Model Performance', fontsize=11, fontweight='bold')\n",
    "    ax5.legend(fontsize=9)\n",
    "    ax5.grid(alpha=0.3)\n",
    "    \n",
    "    # 6. Spread distribution by key sectors\n",
    "    ax6 = fig.add_subplot(gs[2, :])\n",
    "    key_sectors = ['Renewable Energy', 'Banks', 'Utilities', 'Real Estate', \n",
    "                   'Financial Services', 'Power Generation']\n",
    "    sector_data = []\n",
    "    sector_labels = []\n",
    "    for sector in key_sectors:\n",
    "        if sector in df['BICS Level 2'].values:\n",
    "            data = df[df['BICS Level 2'] == sector]['bid_ask_spread_bps'].dropna()\n",
    "            if len(data) >= 10:\n",
    "                sector_data.append(data)\n",
    "                sector_labels.append(f\"{sector}\\n(n={len(data)})\")\n",
    "        elif sector in df['sector_group'].values:\n",
    "            data = df[df['sector_group'] == sector]['bid_ask_spread_bps'].dropna()\n",
    "            if len(data) >= 10:\n",
    "                sector_data.append(data)\n",
    "                sector_labels.append(f\"{sector}\\n(n={len(data)})\")\n",
    "    \n",
    "    if sector_data:\n",
    "        bp = ax6.boxplot(sector_data, labels=sector_labels, patch_artist=True,\n",
    "                         showfliers=False, medianprops=dict(color='red', linewidth=2))\n",
    "        colors_box = plt.cm.Set3(np.linspace(0, 1, len(sector_data)))\n",
    "        for patch, color in zip(bp['boxes'], colors_box):\n",
    "            patch.set_facecolor(color)\n",
    "            patch.set_alpha(0.7)\n",
    "        ax6.set_ylabel('Bid-Ask Spread (bps)', fontsize=11)\n",
    "        ax6.set_title('Spread Distribution Across Key Green Bond Sectors', fontsize=12, fontweight='bold')\n",
    "        ax6.grid(axis='y', alpha=0.3)\n",
    "        plt.setp(ax6.xaxis.get_majorticklabels(), rotation=0, ha='center', fontsize=9)\n",
    "    \n",
    "    plt.savefig(save_path, dpi=300, bbox_inches='tight')\n",
    "    plt.show()\n",
    "    print(f\"\\n✓ Visualization saved to: {save_path}\")\n",
    "\n",
    "\n",
    "def generate_sector_research_summary(original_r2, enhanced_r2, importance_df, \n",
    "                                    sector_stats, group_stats, df_analysis):\n",
    "    \"\"\"\n",
    "    Generate comprehensive research summary\n",
    "    \"\"\"\n",
    "    print(\"\\n\" + \"=\"*80)\n",
    "    print(\"     GREEN BOND LIQUIDITY RESEARCH - SECTOR ANALYSIS SUMMARY\")\n",
    "    print(\"=\"*80)\n",
    "    \n",
    "    print(\"\\n📊 MODEL PERFORMANCE:\")\n",
    "    print(f\"  • Baseline model R²:      {original_r2:.4f}\")\n",
    "    print(f\"  • Sector-enhanced R²:     {enhanced_r2:.4f}\")\n",
    "    print(f\"  • Improvement:            +{(enhanced_r2 - original_r2):.4f} \" +\n",
    "          f\"({(enhanced_r2/original_r2 - 1)*100:.1f}% gain)\")\n",
    "    \n",
    "    print(\"\\n🏭 KEY FINDING #1: SECTOR HETEROGENEITY\")\n",
    "    print(\"-\" * 80)\n",
    "    \n",
    "    most_liquid = sector_stats.sort_values('Avg_Spread').head(3)\n",
    "    least_liquid = sector_stats.sort_values('Avg_Spread').tail(3)\n",
    "    \n",
    "    print(\"\\n  Most Liquid Green Bond Sectors (Tightest Spreads):\")\n",
    "    for idx, (sector, row) in enumerate(most_liquid.iterrows(), 1):\n",
    "        print(f\"    {idx}. {sector:.<50} {row['Avg_Spread']:.2f} bps (n={int(row['Count'])})\")\n",
    "    \n",
    "    print(\"\\n  Least Liquid Green Bond Sectors (Widest Spreads):\")\n",
    "    for idx, (sector, row) in enumerate(least_liquid.iterrows(), 1):\n",
    "        print(f\"    {idx}. {sector:.<50} {row['Avg_Spread']:.2f} bps (n={int(row['Count'])})\")\n",
    "    \n",
    "    spread_range = least_liquid.iloc[0]['Avg_Spread'] - most_liquid.iloc[0]['Avg_Spread']\n",
    "    print(f\"\\n  → Liquidity gap: {spread_range:.2f} bps \" +\n",
    "          f\"({spread_range/most_liquid.iloc[0]['Avg_Spread']*100:.0f}% difference)\")\n",
    "    \n",
    "    print(\"\\n⚡ KEY FINDING #2: MARKET STRESS AMPLIFICATION\")\n",
    "    print(\"-\" * 80)\n",
    "    \n",
    "    low_vol = df_analysis[df_analysis['low_stoxx_vol'] == 1]['bid_ask_spread_bps'].mean()\n",
    "    high_vol = df_analysis[df_analysis['high_stoxx_vol'] == 1]['bid_ask_spread_bps'].mean()\n",
    "    stress_premium = high_vol - low_vol\n",
    "    \n",
    "    print(f\"  • Calm markets (Low STOXX vol):   {low_vol:.2f} bps\")\n",
    "    print(f\"  • Stressed markets (High vol):    {high_vol:.2f} bps\")\n",
    "    print(f\"  • Market stress premium:          +{stress_premium:.2f} bps ({stress_premium/low_vol*100:.1f}%)\")\n",
    "    \n",
    "    print(\"\\n\" + \"=\"*80)\n",
    "\n",
    "# ============================================\n",
    "# NOW RUN THE ANALYSIS\n",
    "# ============================================\n",
    "\n",
    "print(\"\\n\\n\" + \"=\"*80)\n",
    "print(\"RUNNING COMPLETE SECTOR ANALYSIS\")\n",
    "print(\"=\"*80)\n",
    "\n",
    "# 1. Feature importance\n",
    "print(\"\\n[1/5] Analyzing feature importance...\")\n",
    "importance_df = analyze_sector_feature_importance(enhanced_models, all_features, top_n=30)\n",
    "\n",
    "# 2. Sector analysis\n",
    "print(\"\\n[2/5] Analyzing sectors...\")\n",
    "df_with_predictions, sector_stats, group_stats, interaction_matrix = analyze_by_sector(\n",
    "    maindf, enhanced_models, all_features\n",
    ")\n",
    "\n",
    "# 3. Statistical tests\n",
    "print(\"\\n[3/5] Running statistical tests...\")\n",
    "test_sector_differences(df_with_predictions)\n",
    "\n",
    "# 4. Visualizations\n",
    "print(\"\\n[4/5] Creating visualizations...\")\n",
    "create_sector_visualizations(df_with_predictions, sector_stats, group_stats)\n",
    "\n",
    "# 5. Summary\n",
    "print(\"\\n[5/5] Generating research summary...\")\n",
    "generate_sector_research_summary(\n",
    "    original_r2=0.6728,\n",
    "    enhanced_r2=0.8151,\n",
    "    importance_df=importance_df,\n",
    "    sector_stats=sector_stats,\n",
    "    group_stats=group_stats,\n",
    "    df_analysis=df_with_predictions\n",
    ")\n",
    "\n",
    "print(\"\\n\" + \"=\"*80)\n",
    "print(\"✅ COMPLETE ANALYSIS FINISHED!\")\n",
    "print(\"=\"*80)\n",
    "print(\"\\nYou now have:\")\n",
    "print(\"  • Feature importance rankings\")\n",
    "print(\"  • Sector liquidity comparisons\")\n",
    "print(\"  • Statistical significance tests\")\n",
    "print(\"  • Publication-quality visualizations\")\n",
    "print(\"  • Research summary for your paper\")\n",
    "print(\"=\"*80)"
   ]
  }
 ],
 "metadata": {
  "kernelspec": {
   "display_name": "base",
   "language": "python",
   "name": "python3"
  },
  "language_info": {
   "codemirror_mode": {
    "name": "ipython",
    "version": 3
   },
   "file_extension": ".py",
   "mimetype": "text/x-python",
   "name": "python",
   "nbconvert_exporter": "python",
   "pygments_lexer": "ipython3",
   "version": "3.9.18"
  }
 },
 "nbformat": 4,
 "nbformat_minor": 2
}
